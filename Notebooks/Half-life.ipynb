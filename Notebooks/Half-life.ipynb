{
  "cells": [
    {
      "cell_type": "markdown",
      "metadata": {
        "colab_type": "text",
        "id": "view-in-github"
      },
      "source": [
        "<a href=\"https://colab.research.google.com/github/AmberGodil/ML/blob/main/Notebooks/Half-life.ipynb\" target=\"_parent\"><img src=\"https://colab.research.google.com/assets/colab-badge.svg\" alt=\"Open In Colab\"/></a>"
      ]
    },
    {
      "cell_type": "code",
      "execution_count": 2,
      "metadata": {
        "colab": {
          "base_uri": "https://localhost:8080/"
        },
        "id": "LiKU89cs_d--",
        "outputId": "c097b6a1-f3d9-46bb-c29b-8069f4852bcb"
      },
      "outputs": [
        {
          "name": "stdout",
          "output_type": "stream",
          "text": [
            "Collecting deepchem\n",
            "  Downloading deepchem-2.8.0-py3-none-any.whl (1.0 MB)\n",
            "\u001b[2K     \u001b[90m━━━━━━━━━━━━━━━━━━━━━━━━━━━━━━━━━━━━━━━━\u001b[0m \u001b[32m1.0/1.0 MB\u001b[0m \u001b[31m11.3 MB/s\u001b[0m eta \u001b[36m0:00:00\u001b[0m\n",
            "\u001b[?25hRequirement already satisfied: joblib in /usr/local/lib/python3.10/dist-packages (from deepchem) (1.4.2)\n",
            "Requirement already satisfied: numpy>=1.21 in /usr/local/lib/python3.10/dist-packages (from deepchem) (1.25.2)\n",
            "Requirement already satisfied: pandas in /usr/local/lib/python3.10/dist-packages (from deepchem) (2.0.3)\n",
            "Requirement already satisfied: scikit-learn in /usr/local/lib/python3.10/dist-packages (from deepchem) (1.2.2)\n",
            "Requirement already satisfied: sympy in /usr/local/lib/python3.10/dist-packages (from deepchem) (1.12.1)\n",
            "Requirement already satisfied: scipy>=1.10.1 in /usr/local/lib/python3.10/dist-packages (from deepchem) (1.11.4)\n",
            "Collecting rdkit (from deepchem)\n",
            "  Downloading rdkit-2024.3.3-cp310-cp310-manylinux_2_28_x86_64.whl (33.1 MB)\n",
            "\u001b[2K     \u001b[90m━━━━━━━━━━━━━━━━━━━━━━━━━━━━━━━━━━━━━━━━\u001b[0m \u001b[32m33.1/33.1 MB\u001b[0m \u001b[31m36.8 MB/s\u001b[0m eta \u001b[36m0:00:00\u001b[0m\n",
            "\u001b[?25hRequirement already satisfied: python-dateutil>=2.8.2 in /usr/local/lib/python3.10/dist-packages (from pandas->deepchem) (2.8.2)\n",
            "Requirement already satisfied: pytz>=2020.1 in /usr/local/lib/python3.10/dist-packages (from pandas->deepchem) (2023.4)\n",
            "Requirement already satisfied: tzdata>=2022.1 in /usr/local/lib/python3.10/dist-packages (from pandas->deepchem) (2024.1)\n",
            "Requirement already satisfied: Pillow in /usr/local/lib/python3.10/dist-packages (from rdkit->deepchem) (9.4.0)\n",
            "Requirement already satisfied: threadpoolctl>=2.0.0 in /usr/local/lib/python3.10/dist-packages (from scikit-learn->deepchem) (3.5.0)\n",
            "Requirement already satisfied: mpmath<1.4.0,>=1.1.0 in /usr/local/lib/python3.10/dist-packages (from sympy->deepchem) (1.3.0)\n",
            "Requirement already satisfied: six>=1.5 in /usr/local/lib/python3.10/dist-packages (from python-dateutil>=2.8.2->pandas->deepchem) (1.16.0)\n",
            "Installing collected packages: rdkit, deepchem\n",
            "Successfully installed deepchem-2.8.0 rdkit-2024.3.3\n",
            "Collecting rdkit-pypi\n",
            "  Downloading rdkit_pypi-2022.9.5-cp310-cp310-manylinux_2_17_x86_64.manylinux2014_x86_64.whl (29.4 MB)\n",
            "\u001b[2K     \u001b[90m━━━━━━━━━━━━━━━━━━━━━━━━━━━━━━━━━━━━━━━━\u001b[0m \u001b[32m29.4/29.4 MB\u001b[0m \u001b[31m45.4 MB/s\u001b[0m eta \u001b[36m0:00:00\u001b[0m\n",
            "\u001b[?25hRequirement already satisfied: numpy in /usr/local/lib/python3.10/dist-packages (from rdkit-pypi) (1.25.2)\n",
            "Requirement already satisfied: Pillow in /usr/local/lib/python3.10/dist-packages (from rdkit-pypi) (9.4.0)\n",
            "Installing collected packages: rdkit-pypi\n",
            "Successfully installed rdkit-pypi-2022.9.5\n",
            "Requirement already satisfied: deepchem in /usr/local/lib/python3.10/dist-packages (2.8.0)\n",
            "Requirement already satisfied: joblib in /usr/local/lib/python3.10/dist-packages (from deepchem) (1.4.2)\n",
            "Requirement already satisfied: numpy>=1.21 in /usr/local/lib/python3.10/dist-packages (from deepchem) (1.25.2)\n",
            "Requirement already satisfied: pandas in /usr/local/lib/python3.10/dist-packages (from deepchem) (2.0.3)\n",
            "Requirement already satisfied: scikit-learn in /usr/local/lib/python3.10/dist-packages (from deepchem) (1.2.2)\n",
            "Requirement already satisfied: sympy in /usr/local/lib/python3.10/dist-packages (from deepchem) (1.12.1)\n",
            "Requirement already satisfied: scipy>=1.10.1 in /usr/local/lib/python3.10/dist-packages (from deepchem) (1.11.4)\n",
            "Requirement already satisfied: rdkit in /usr/local/lib/python3.10/dist-packages (from deepchem) (2024.3.3)\n",
            "Requirement already satisfied: python-dateutil>=2.8.2 in /usr/local/lib/python3.10/dist-packages (from pandas->deepchem) (2.8.2)\n",
            "Requirement already satisfied: pytz>=2020.1 in /usr/local/lib/python3.10/dist-packages (from pandas->deepchem) (2023.4)\n",
            "Requirement already satisfied: tzdata>=2022.1 in /usr/local/lib/python3.10/dist-packages (from pandas->deepchem) (2024.1)\n",
            "Requirement already satisfied: Pillow in /usr/local/lib/python3.10/dist-packages (from rdkit->deepchem) (9.4.0)\n",
            "Requirement already satisfied: threadpoolctl>=2.0.0 in /usr/local/lib/python3.10/dist-packages (from scikit-learn->deepchem) (3.5.0)\n",
            "Requirement already satisfied: mpmath<1.4.0,>=1.1.0 in /usr/local/lib/python3.10/dist-packages (from sympy->deepchem) (1.3.0)\n",
            "Requirement already satisfied: six>=1.5 in /usr/local/lib/python3.10/dist-packages (from python-dateutil>=2.8.2->pandas->deepchem) (1.16.0)\n"
          ]
        },
        {
          "name": "stderr",
          "output_type": "stream",
          "text": [
            "WARNING:tensorflow:From /usr/local/lib/python3.10/dist-packages/tensorflow/python/util/deprecation.py:588: calling function (from tensorflow.python.eager.polymorphic_function.polymorphic_function) with experimental_relax_shapes is deprecated and will be removed in a future version.\n",
            "Instructions for updating:\n",
            "experimental_relax_shapes is deprecated, use reduce_retracing instead\n",
            "WARNING:deepchem.models.torch_models:Skipped loading modules with pytorch-geometric dependency, missing a dependency. No module named 'torch_geometric'\n",
            "WARNING:deepchem.models:Skipped loading modules with pytorch-geometric dependency, missing a dependency. cannot import name 'DMPNN' from 'deepchem.models.torch_models' (/usr/local/lib/python3.10/dist-packages/deepchem/models/torch_models/__init__.py)\n",
            "WARNING:deepchem.models:Skipped loading modules with pytorch-lightning dependency, missing a dependency. No module named 'lightning'\n",
            "WARNING:deepchem.models:Skipped loading some Jax models, missing a dependency. No module named 'haiku'\n"
          ]
        }
      ],
      "source": [
        "!pip install deepchem\n",
        "!pip install rdkit-pypi\n",
        "!pip install --upgrade deepchem\n",
        "\n",
        "import pandas as pd\n",
        "import numpy as np\n",
        "import deepchem as dc\n",
        "\n",
        "from sklearn.model_selection import train_test_split\n",
        "from rdkit import Chem\n",
        "from rdkit.Chem import Descriptors\n",
        "from rdkit.ML.Descriptors import MoleculeDescriptors\n",
        "from sklearn.ensemble import RandomForestClassifier\n",
        "from sklearn.preprocessing import StandardScaler\n",
        "from sklearn.metrics import accuracy_score, roc_auc_score, average_precision_score\n",
        "from sklearn.metrics import classification_report\n",
        "from sklearn.model_selection import GridSearchCV\n",
        "\n",
        "import warnings\n",
        "\n",
        "warnings.filterwarnings('ignore')\n"
      ]
    },
    {
      "cell_type": "code",
      "execution_count": 88,
      "metadata": {
        "colab": {
          "base_uri": "https://localhost:8080/",
          "height": 669
        },
        "id": "Etmu6-An_rZ_",
        "outputId": "34146d7b-40d3-48cc-c17a-a8744cf57b8c"
      },
      "outputs": [
        {
          "data": {
            "text/html": [
              "<div>\n",
              "<style scoped>\n",
              "    .dataframe tbody tr th:only-of-type {\n",
              "        vertical-align: middle;\n",
              "    }\n",
              "\n",
              "    .dataframe tbody tr th {\n",
              "        vertical-align: top;\n",
              "    }\n",
              "\n",
              "    .dataframe thead th {\n",
              "        text-align: right;\n",
              "    }\n",
              "</style>\n",
              "<table border=\"1\" class=\"dataframe\">\n",
              "  <thead>\n",
              "    <tr style=\"text-align: right;\">\n",
              "      <th></th>\n",
              "      <th>Molecule</th>\n",
              "      <th>PUBCHEM_COMPOUND_CID</th>\n",
              "      <th>PUBCHEM_IUPAC_INCHI</th>\n",
              "      <th>PUBCHEM_IUPAC_INCHIKEY</th>\n",
              "      <th>Half-Life in MLM minutes</th>\n",
              "      <th>Binary Classification</th>\n",
              "    </tr>\n",
              "  </thead>\n",
              "  <tbody>\n",
              "    <tr>\n",
              "      <th>0</th>\n",
              "      <td>[Cl-1].S1C2=C3SC=4C=5N3C36[H].O=C2N2C1=C1C=7[N...</td>\n",
              "      <td>6444403</td>\n",
              "      <td>InChI=1S/C21H22N3OS2.ClH/c1-4-23-13-9-8-10-15(...</td>\n",
              "      <td>VSKYOTRJSLYFHX-UXJRWBAGSA-M</td>\n",
              "      <td>4.4</td>\n",
              "      <td>0</td>\n",
              "    </tr>\n",
              "    <tr>\n",
              "      <th>1</th>\n",
              "      <td>O1C23C45C67C89C%10%11C%12%13C%14%15C%16%17C8%1...</td>\n",
              "      <td>11686124</td>\n",
              "      <td>InChI=1S/C35H54N2O10/c1-19(6-9-29(36)40)24-7-8...</td>\n",
              "      <td>BDEAKWDBQDWAAQ-ORYUWPRUSA-N</td>\n",
              "      <td>38.0</td>\n",
              "      <td>0</td>\n",
              "    </tr>\n",
              "    <tr>\n",
              "      <th>2</th>\n",
              "      <td>O1C23C45C67C89C%10%11C%12%13C%14%15C%16%17C8%1...</td>\n",
              "      <td>11571413</td>\n",
              "      <td>InChI=1S/C43H72N4O10/c1-27(10-13-37(50)44-20-2...</td>\n",
              "      <td>SBDGPZKXHQPLJY-UEPJFKMZSA-N</td>\n",
              "      <td>120.0</td>\n",
              "      <td>1</td>\n",
              "    </tr>\n",
              "    <tr>\n",
              "      <th>3</th>\n",
              "      <td>O1C23C45C67C89C%10%11C%12%13C%14%15C%16%17C8%1...</td>\n",
              "      <td>11535162</td>\n",
              "      <td>InChI=1S/C47H62N2O10/c1-29(16-19-41(52)48-34-1...</td>\n",
              "      <td>ASQDPWRWIJWAFR-CBKGSJONSA-N</td>\n",
              "      <td>120.0</td>\n",
              "      <td>1</td>\n",
              "    </tr>\n",
              "    <tr>\n",
              "      <th>4</th>\n",
              "      <td>[Cl]C1=NC=2N3N=C4N=2.[F]C25[F].[F]2.[F]C2=C6C1...</td>\n",
              "      <td>16103018</td>\n",
              "      <td>InChI=1S/C18H18ClF5N6O.ClH/c1-9(18(22,23)24)28...</td>\n",
              "      <td>HAFUDZOLFLXVIY-FVGYRXGTSA-N</td>\n",
              "      <td>433.0</td>\n",
              "      <td>1</td>\n",
              "    </tr>\n",
              "    <tr>\n",
              "      <th>...</th>\n",
              "      <td>...</td>\n",
              "      <td>...</td>\n",
              "      <td>...</td>\n",
              "      <td>...</td>\n",
              "      <td>...</td>\n",
              "      <td>...</td>\n",
              "    </tr>\n",
              "    <tr>\n",
              "      <th>889</th>\n",
              "      <td>N12C34C56N7C89C1%10[H].N1%11C%12%13C%14%15C%16...</td>\n",
              "      <td>54585781</td>\n",
              "      <td>InChI=1S/C13H24N6/c1-10(2)9-15-11-8-12(17-13(1...</td>\n",
              "      <td>LJUOJSBZZTZROX-UHFFFAOYSA-N</td>\n",
              "      <td>4.0</td>\n",
              "      <td>0</td>\n",
              "    </tr>\n",
              "    <tr>\n",
              "      <th>890</th>\n",
              "      <td>[Cl]C=1C2=C3C=4N=C5N=C6N7C89C%10%11N%12C%13=NC...</td>\n",
              "      <td>44595856</td>\n",
              "      <td>InChI=1S/C16H17ClN8/c17-11-3-1-2-10(8-11)12-9-...</td>\n",
              "      <td>UIACBYZKCZCWAB-UHFFFAOYSA-N</td>\n",
              "      <td>9.0</td>\n",
              "      <td>0</td>\n",
              "    </tr>\n",
              "    <tr>\n",
              "      <th>891</th>\n",
              "      <td>N12C34C56N7C89C1%10[H].N1=C2C2=C%11N=C1N1[H].C...</td>\n",
              "      <td>25129523</td>\n",
              "      <td>InChI=1S/C15H19N5/c1-19-7-9-20(10-8-19)14-11-1...</td>\n",
              "      <td>NIJGWJIOMPHDBP-UHFFFAOYSA-N</td>\n",
              "      <td>4.0</td>\n",
              "      <td>0</td>\n",
              "    </tr>\n",
              "    <tr>\n",
              "      <th>892</th>\n",
              "      <td>[Cl]C1=C2C=3C4=C5N6C=3C3=C1[H].O=C5N1C57C89N%1...</td>\n",
              "      <td>4908365</td>\n",
              "      <td>InChI=1S/C14H16ClN3O/c1-17-4-6-18(7-5-17)14(19...</td>\n",
              "      <td>HUQJRYMLJBBEDO-UHFFFAOYSA-N</td>\n",
              "      <td>2.0</td>\n",
              "      <td>0</td>\n",
              "    </tr>\n",
              "    <tr>\n",
              "      <th>893</th>\n",
              "      <td>[F]C12[F].[F]1.O=C2N1N=C2C3=C4C=5OC67[H].C18=C...</td>\n",
              "      <td>25229652</td>\n",
              "      <td>InChI=1S/C18H17F3N2O2/c1-12-7-8-16(13(2)9-12)2...</td>\n",
              "      <td>HYMZAYGFKNNHDN-SSDVNMTOSA-N</td>\n",
              "      <td>4.0</td>\n",
              "      <td>0</td>\n",
              "    </tr>\n",
              "  </tbody>\n",
              "</table>\n",
              "<p>894 rows × 6 columns</p>\n",
              "</div>"
            ],
            "text/plain": [
              "                                              Molecule  PUBCHEM_COMPOUND_CID  \\\n",
              "0    [Cl-1].S1C2=C3SC=4C=5N3C36[H].O=C2N2C1=C1C=7[N...               6444403   \n",
              "1    O1C23C45C67C89C%10%11C%12%13C%14%15C%16%17C8%1...              11686124   \n",
              "2    O1C23C45C67C89C%10%11C%12%13C%14%15C%16%17C8%1...              11571413   \n",
              "3    O1C23C45C67C89C%10%11C%12%13C%14%15C%16%17C8%1...              11535162   \n",
              "4    [Cl]C1=NC=2N3N=C4N=2.[F]C25[F].[F]2.[F]C2=C6C1...              16103018   \n",
              "..                                                 ...                   ...   \n",
              "889  N12C34C56N7C89C1%10[H].N1%11C%12%13C%14%15C%16...              54585781   \n",
              "890  [Cl]C=1C2=C3C=4N=C5N=C6N7C89C%10%11N%12C%13=NC...              44595856   \n",
              "891  N12C34C56N7C89C1%10[H].N1=C2C2=C%11N=C1N1[H].C...              25129523   \n",
              "892  [Cl]C1=C2C=3C4=C5N6C=3C3=C1[H].O=C5N1C57C89N%1...               4908365   \n",
              "893  [F]C12[F].[F]1.O=C2N1N=C2C3=C4C=5OC67[H].C18=C...              25229652   \n",
              "\n",
              "                                   PUBCHEM_IUPAC_INCHI  \\\n",
              "0    InChI=1S/C21H22N3OS2.ClH/c1-4-23-13-9-8-10-15(...   \n",
              "1    InChI=1S/C35H54N2O10/c1-19(6-9-29(36)40)24-7-8...   \n",
              "2    InChI=1S/C43H72N4O10/c1-27(10-13-37(50)44-20-2...   \n",
              "3    InChI=1S/C47H62N2O10/c1-29(16-19-41(52)48-34-1...   \n",
              "4    InChI=1S/C18H18ClF5N6O.ClH/c1-9(18(22,23)24)28...   \n",
              "..                                                 ...   \n",
              "889  InChI=1S/C13H24N6/c1-10(2)9-15-11-8-12(17-13(1...   \n",
              "890  InChI=1S/C16H17ClN8/c17-11-3-1-2-10(8-11)12-9-...   \n",
              "891  InChI=1S/C15H19N5/c1-19-7-9-20(10-8-19)14-11-1...   \n",
              "892  InChI=1S/C14H16ClN3O/c1-17-4-6-18(7-5-17)14(19...   \n",
              "893  InChI=1S/C18H17F3N2O2/c1-12-7-8-16(13(2)9-12)2...   \n",
              "\n",
              "          PUBCHEM_IUPAC_INCHIKEY  Half-Life in MLM minutes  \\\n",
              "0    VSKYOTRJSLYFHX-UXJRWBAGSA-M                       4.4   \n",
              "1    BDEAKWDBQDWAAQ-ORYUWPRUSA-N                      38.0   \n",
              "2    SBDGPZKXHQPLJY-UEPJFKMZSA-N                     120.0   \n",
              "3    ASQDPWRWIJWAFR-CBKGSJONSA-N                     120.0   \n",
              "4    HAFUDZOLFLXVIY-FVGYRXGTSA-N                     433.0   \n",
              "..                           ...                       ...   \n",
              "889  LJUOJSBZZTZROX-UHFFFAOYSA-N                       4.0   \n",
              "890  UIACBYZKCZCWAB-UHFFFAOYSA-N                       9.0   \n",
              "891  NIJGWJIOMPHDBP-UHFFFAOYSA-N                       4.0   \n",
              "892  HUQJRYMLJBBEDO-UHFFFAOYSA-N                       2.0   \n",
              "893  HYMZAYGFKNNHDN-SSDVNMTOSA-N                       4.0   \n",
              "\n",
              "     Binary Classification  \n",
              "0                        0  \n",
              "1                        0  \n",
              "2                        1  \n",
              "3                        1  \n",
              "4                        1  \n",
              "..                     ...  \n",
              "889                      0  \n",
              "890                      0  \n",
              "891                      0  \n",
              "892                      0  \n",
              "893                      0  \n",
              "\n",
              "[894 rows x 6 columns]"
            ]
          },
          "execution_count": 88,
          "metadata": {},
          "output_type": "execute_result"
        }
      ],
      "source": [
        "df = pd.read_csv(\"../Data/half-life-dataset.csv\")\n",
        "df.head()\n",
        "df.drop('Unnamed: 4', axis=1)"
      ]
    },
    {
      "cell_type": "markdown",
      "metadata": {
        "id": "dBZjj-BEoylO"
      },
      "source": [
        "Convert each molecule to mol from Inchi and add to data frame"
      ]
    },
    {
      "cell_type": "code",
      "execution_count": 89,
      "metadata": {
        "colab": {
          "base_uri": "https://localhost:8080/",
          "height": 521
        },
        "id": "cM_WCFdM0kfz",
        "outputId": "5272c21f-69bd-424b-fd13-129ae8f40a7d"
      },
      "outputs": [
        {
          "name": "stderr",
          "output_type": "stream",
          "text": [
            "[15:12:23] ERROR: \n",
            "\n",
            "[15:12:23] ERROR: \n",
            "\n"
          ]
        }
      ],
      "source": [
        "df['mol'] = df['PUBCHEM_IUPAC_INCHI'].apply(Chem.MolFromInchi)\n",
        "df.drop('Unnamed: 4', axis=1)\n",
        "df['SMILES'] = df['mol'].apply(lambda x: Chem.MolToSmiles(x) if x is not None else None)"
      ]
    },
    {
      "cell_type": "code",
      "execution_count": 90,
      "metadata": {
        "id": "Fg8_0Cw_sLBO"
      },
      "outputs": [],
      "source": [
        "df.dropna(subset=['mol'])\n",
        "df.dropna(subset=['SMILES'])\n",
        "valid_smiles = df['SMILES'].apply(lambda x: isinstance(x, str) and len(x) > 0 and x != 'Non')\n",
        "df = df[valid_smiles]"
      ]
    },
    {
      "cell_type": "code",
      "execution_count": 91,
      "metadata": {},
      "outputs": [],
      "source": [
        "DATA_DIR = \"../Data\"\n",
        "\n",
        "TRN_PATH = f\"{DATA_DIR}/half-life-test.csv\"\n",
        "TST_PATH = f\"{DATA_DIR}/half-life-train.csv\"\n"
      ]
    },
    {
      "cell_type": "code",
      "execution_count": 77,
      "metadata": {},
      "outputs": [],
      "source": [
        "df_trn = pd.read_csv(TRN_PATH)\n",
        "df_tst = pd.read_csv(TST_PATH)"
      ]
    },
    {
      "cell_type": "code",
      "execution_count": 78,
      "metadata": {
        "id": "ZXFI5Lqb4xFa"
      },
      "outputs": [],
      "source": [
        "df_trn= df_trn[['SMILES', 'Binary Classification']]\n",
        "df_tst= df_tst[['SMILES', 'Binary Classification']]\n"
      ]
    },
    {
      "cell_type": "markdown",
      "metadata": {
        "id": "wicXV8hKz6KH"
      },
      "source": [
        "Using deepchem to generate features: RDKit descriptors and circular fingerprints"
      ]
    },
    {
      "cell_type": "code",
      "execution_count": 79,
      "metadata": {
        "colab": {
          "base_uri": "https://localhost:8080/"
        },
        "id": "QuID0mBE1mkx",
        "outputId": "9096aa34-c69a-42ae-946e-83053161752c"
      },
      "outputs": [
        {
          "name": "stdout",
          "output_type": "stream",
          "text": [
            "Generating circular fingerprints...\n",
            "Generating rdkit fingerprints...\n",
            "Done!\n",
            "Shape of trn set = (179, 2258)\n",
            "Shape of tst set = (713, 2258)\n"
          ]
        }
      ],
      "source": [
        "featurizers = {\n",
        "    'circular': dc.feat.CircularFingerprint(size=2048, radius=4),\n",
        "    'rdkit': dc.feat.RDKitDescriptors()\n",
        "}\n",
        "def featurize(df, key, featurizer):\n",
        "    feats = []\n",
        "    for smiles in df['SMILES']:\n",
        "        try:\n",
        "            feat = featurizer.featurize([smiles])\n",
        "            feats.append(feat[0])\n",
        "        except Exception as e:\n",
        "            print(f\"Error featurizing SMILES: {smiles}. Error: {e}\")\n",
        "            feats.append([None] * featurizer.size)\n",
        "\n",
        "    pd_feats = pd.DataFrame(feats, columns=[key + '_' + str(i+1) for i in range(len(feats[0]))])\n",
        "    return pd.concat([df.reset_index(drop=True), pd_feats], axis=1)\n",
        "\n",
        "\n",
        "for k, f in featurizers.items():\n",
        "    print(f\"Generating {k} fingerprints...\")\n",
        "    df_trn = featurize(df_trn, k, f)\n",
        "    df_tst = featurize(df_tst, k, f)\n",
        "print(\"Done!\")\n",
        "\n",
        "print(f\"Shape of trn set = {df_trn.shape}\")\n",
        "print(f\"Shape of tst set = {df_tst.shape}\")"
      ]
    },
    {
      "cell_type": "code",
      "execution_count": 82,
      "metadata": {
        "colab": {
          "base_uri": "https://localhost:8080/"
        },
        "id": "FG_P4epfaSzR",
        "outputId": "1f0bbd1d-a380-4ad7-fe51-7618c168a47d"
      },
      "outputs": [
        {
          "data": {
            "text/plain": [
              "Index(['SMILES', 'Binary Classification', 'circular_1', 'circular_2',\n",
              "       'circular_3', 'circular_4', 'circular_5', 'circular_6', 'circular_7',\n",
              "       'circular_8',\n",
              "       ...\n",
              "       'rdkit_199', 'rdkit_200', 'rdkit_201', 'rdkit_202', 'rdkit_203',\n",
              "       'rdkit_204', 'rdkit_205', 'rdkit_206', 'rdkit_207', 'rdkit_208'],\n",
              "      dtype='object', length=2258)"
            ]
          },
          "execution_count": 82,
          "metadata": {},
          "output_type": "execute_result"
        }
      ],
      "source": [
        "df_trn.columns"
      ]
    },
    {
      "cell_type": "code",
      "execution_count": 81,
      "metadata": {},
      "outputs": [],
      "source": [
        "X_trn, y_trn = df_trn.drop(['SMILES', 'Binary Classification'], axis=1), df_trn['Binary Classification']\n",
        "X_tst, y_tst = df_tst.drop(['SMILES', 'Binary Classification'], axis=1), df_tst['Binary Classification']"
      ]
    },
    {
      "cell_type": "markdown",
      "metadata": {
        "id": "zieBF6Ml0UCb"
      },
      "source": [
        "Scale dataset StandardScaler"
      ]
    },
    {
      "cell_type": "code",
      "execution_count": 28,
      "metadata": {
        "id": "qp6kiH-DexZh"
      },
      "outputs": [],
      "source": [
        "scaler = StandardScaler()\n",
        "X_trn = scaler.fit_transform(X_trn)\n",
        "X_tst = scaler.transform(X_tst)\n"
      ]
    },
    {
      "cell_type": "markdown",
      "metadata": {
        "id": "Ib8LERfC0d_D"
      },
      "source": [
        "Generate random forest model"
      ]
    },
    {
      "cell_type": "code",
      "execution_count": 29,
      "metadata": {
        "id": "2LMpxaVkey97"
      },
      "outputs": [],
      "source": [
        "rf = RandomForestClassifier(n_estimators= 1000, max_depth=14, max_samples=80, random_state=42)"
      ]
    },
    {
      "cell_type": "markdown",
      "metadata": {
        "id": "dFXA4FpX0e50"
      },
      "source": [
        "Fit data to model"
      ]
    },
    {
      "cell_type": "code",
      "execution_count": 30,
      "metadata": {
        "colab": {
          "base_uri": "https://localhost:8080/",
          "height": 92
        },
        "id": "koZYbgSze4ig",
        "outputId": "1dc95fab-b0c9-43bb-991d-2c48bedeec3e"
      },
      "outputs": [
        {
          "data": {
            "text/html": [
              "<style>#sk-container-id-1 {color: black;background-color: white;}#sk-container-id-1 pre{padding: 0;}#sk-container-id-1 div.sk-toggleable {background-color: white;}#sk-container-id-1 label.sk-toggleable__label {cursor: pointer;display: block;width: 100%;margin-bottom: 0;padding: 0.3em;box-sizing: border-box;text-align: center;}#sk-container-id-1 label.sk-toggleable__label-arrow:before {content: \"▸\";float: left;margin-right: 0.25em;color: #696969;}#sk-container-id-1 label.sk-toggleable__label-arrow:hover:before {color: black;}#sk-container-id-1 div.sk-estimator:hover label.sk-toggleable__label-arrow:before {color: black;}#sk-container-id-1 div.sk-toggleable__content {max-height: 0;max-width: 0;overflow: hidden;text-align: left;background-color: #f0f8ff;}#sk-container-id-1 div.sk-toggleable__content pre {margin: 0.2em;color: black;border-radius: 0.25em;background-color: #f0f8ff;}#sk-container-id-1 input.sk-toggleable__control:checked~div.sk-toggleable__content {max-height: 200px;max-width: 100%;overflow: auto;}#sk-container-id-1 input.sk-toggleable__control:checked~label.sk-toggleable__label-arrow:before {content: \"▾\";}#sk-container-id-1 div.sk-estimator input.sk-toggleable__control:checked~label.sk-toggleable__label {background-color: #d4ebff;}#sk-container-id-1 div.sk-label input.sk-toggleable__control:checked~label.sk-toggleable__label {background-color: #d4ebff;}#sk-container-id-1 input.sk-hidden--visually {border: 0;clip: rect(1px 1px 1px 1px);clip: rect(1px, 1px, 1px, 1px);height: 1px;margin: -1px;overflow: hidden;padding: 0;position: absolute;width: 1px;}#sk-container-id-1 div.sk-estimator {font-family: monospace;background-color: #f0f8ff;border: 1px dotted black;border-radius: 0.25em;box-sizing: border-box;margin-bottom: 0.5em;}#sk-container-id-1 div.sk-estimator:hover {background-color: #d4ebff;}#sk-container-id-1 div.sk-parallel-item::after {content: \"\";width: 100%;border-bottom: 1px solid gray;flex-grow: 1;}#sk-container-id-1 div.sk-label:hover label.sk-toggleable__label {background-color: #d4ebff;}#sk-container-id-1 div.sk-serial::before {content: \"\";position: absolute;border-left: 1px solid gray;box-sizing: border-box;top: 0;bottom: 0;left: 50%;z-index: 0;}#sk-container-id-1 div.sk-serial {display: flex;flex-direction: column;align-items: center;background-color: white;padding-right: 0.2em;padding-left: 0.2em;position: relative;}#sk-container-id-1 div.sk-item {position: relative;z-index: 1;}#sk-container-id-1 div.sk-parallel {display: flex;align-items: stretch;justify-content: center;background-color: white;position: relative;}#sk-container-id-1 div.sk-item::before, #sk-container-id-1 div.sk-parallel-item::before {content: \"\";position: absolute;border-left: 1px solid gray;box-sizing: border-box;top: 0;bottom: 0;left: 50%;z-index: -1;}#sk-container-id-1 div.sk-parallel-item {display: flex;flex-direction: column;z-index: 1;position: relative;background-color: white;}#sk-container-id-1 div.sk-parallel-item:first-child::after {align-self: flex-end;width: 50%;}#sk-container-id-1 div.sk-parallel-item:last-child::after {align-self: flex-start;width: 50%;}#sk-container-id-1 div.sk-parallel-item:only-child::after {width: 0;}#sk-container-id-1 div.sk-dashed-wrapped {border: 1px dashed gray;margin: 0 0.4em 0.5em 0.4em;box-sizing: border-box;padding-bottom: 0.4em;background-color: white;}#sk-container-id-1 div.sk-label label {font-family: monospace;font-weight: bold;display: inline-block;line-height: 1.2em;}#sk-container-id-1 div.sk-label-container {text-align: center;}#sk-container-id-1 div.sk-container {/* jupyter's `normalize.less` sets `[hidden] { display: none; }` but bootstrap.min.css set `[hidden] { display: none !important; }` so we also need the `!important` here to be able to override the default hidden behavior on the sphinx rendered scikit-learn.org. See: https://github.com/scikit-learn/scikit-learn/issues/21755 */display: inline-block !important;position: relative;}#sk-container-id-1 div.sk-text-repr-fallback {display: none;}</style><div id=\"sk-container-id-1\" class=\"sk-top-container\"><div class=\"sk-text-repr-fallback\"><pre>RandomForestClassifier(max_depth=14, max_samples=80, n_estimators=1000,\n",
              "                       random_state=42)</pre><b>In a Jupyter environment, please rerun this cell to show the HTML representation or trust the notebook. <br />On GitHub, the HTML representation is unable to render, please try loading this page with nbviewer.org.</b></div><div class=\"sk-container\" hidden><div class=\"sk-item\"><div class=\"sk-estimator sk-toggleable\"><input class=\"sk-toggleable__control sk-hidden--visually\" id=\"sk-estimator-id-1\" type=\"checkbox\" checked><label for=\"sk-estimator-id-1\" class=\"sk-toggleable__label sk-toggleable__label-arrow\">RandomForestClassifier</label><div class=\"sk-toggleable__content\"><pre>RandomForestClassifier(max_depth=14, max_samples=80, n_estimators=1000,\n",
              "                       random_state=42)</pre></div></div></div></div></div>"
            ],
            "text/plain": [
              "RandomForestClassifier(max_depth=14, max_samples=80, n_estimators=1000,\n",
              "                       random_state=42)"
            ]
          },
          "execution_count": 30,
          "metadata": {},
          "output_type": "execute_result"
        }
      ],
      "source": [
        "rf.fit(X_trn, y_trn)"
      ]
    },
    {
      "cell_type": "code",
      "execution_count": 31,
      "metadata": {
        "colab": {
          "base_uri": "https://localhost:8080/"
        },
        "id": "jwD5UljehQ8z",
        "outputId": "dc803291-d45d-4585-e33a-543fce955816"
      },
      "outputs": [
        {
          "data": {
            "text/plain": [
              "0.7932960893854749"
            ]
          },
          "execution_count": 31,
          "metadata": {},
          "output_type": "execute_result"
        }
      ],
      "source": [
        "rf.score(X_tst, y_tst)"
      ]
    },
    {
      "cell_type": "code",
      "execution_count": 32,
      "metadata": {
        "colab": {
          "base_uri": "https://localhost:8080/",
          "height": 520
        },
        "id": "pigNvBhRe59C",
        "outputId": "ded4ea8e-8f2f-490e-d4aa-ac1d0d0c01bb"
      },
      "outputs": [
        {
          "data": {
            "application/vnd.google.colaboratory.intrinsic+json": {
              "summary": "{\n  \"name\": \"features\",\n  \"rows\": 2256,\n  \"fields\": [\n    {\n      \"column\": 0,\n      \"properties\": {\n        \"dtype\": \"number\",\n        \"std\": 0.000980940315282495,\n        \"min\": 0.0,\n        \"max\": 0.008731846950834326,\n        \"num_unique_values\": 1937,\n        \"samples\": [\n          0.0007104030962166591,\n          0.0001646239737507409,\n          0.0005924779380478983\n        ],\n        \"semantic_type\": \"\",\n        \"description\": \"\"\n      }\n    }\n  ]\n}",
              "type": "dataframe",
              "variable_name": "features"
            },
            "text/html": [
              "\n",
              "  <div id=\"df-7b09c5be-4cf3-437b-8236-14aa9a9b2e79\" class=\"colab-df-container\">\n",
              "    <div>\n",
              "<style scoped>\n",
              "    .dataframe tbody tr th:only-of-type {\n",
              "        vertical-align: middle;\n",
              "    }\n",
              "\n",
              "    .dataframe tbody tr th {\n",
              "        vertical-align: top;\n",
              "    }\n",
              "\n",
              "    .dataframe thead th {\n",
              "        text-align: right;\n",
              "    }\n",
              "</style>\n",
              "<table border=\"1\" class=\"dataframe\">\n",
              "  <thead>\n",
              "    <tr style=\"text-align: right;\">\n",
              "      <th></th>\n",
              "      <th>0</th>\n",
              "    </tr>\n",
              "  </thead>\n",
              "  <tbody>\n",
              "    <tr>\n",
              "      <th>circular_1</th>\n",
              "      <td>0.000114</td>\n",
              "    </tr>\n",
              "    <tr>\n",
              "      <th>circular_2</th>\n",
              "      <td>0.000519</td>\n",
              "    </tr>\n",
              "    <tr>\n",
              "      <th>circular_3</th>\n",
              "      <td>0.000482</td>\n",
              "    </tr>\n",
              "    <tr>\n",
              "      <th>circular_4</th>\n",
              "      <td>0.000126</td>\n",
              "    </tr>\n",
              "    <tr>\n",
              "      <th>circular_5</th>\n",
              "      <td>0.001219</td>\n",
              "    </tr>\n",
              "    <tr>\n",
              "      <th>circular_6</th>\n",
              "      <td>0.000187</td>\n",
              "    </tr>\n",
              "    <tr>\n",
              "      <th>circular_7</th>\n",
              "      <td>0.000324</td>\n",
              "    </tr>\n",
              "    <tr>\n",
              "      <th>circular_8</th>\n",
              "      <td>0.000000</td>\n",
              "    </tr>\n",
              "    <tr>\n",
              "      <th>circular_9</th>\n",
              "      <td>0.000170</td>\n",
              "    </tr>\n",
              "    <tr>\n",
              "      <th>circular_10</th>\n",
              "      <td>0.000061</td>\n",
              "    </tr>\n",
              "    <tr>\n",
              "      <th>circular_11</th>\n",
              "      <td>0.000204</td>\n",
              "    </tr>\n",
              "    <tr>\n",
              "      <th>circular_12</th>\n",
              "      <td>0.000039</td>\n",
              "    </tr>\n",
              "    <tr>\n",
              "      <th>circular_13</th>\n",
              "      <td>0.000421</td>\n",
              "    </tr>\n",
              "    <tr>\n",
              "      <th>circular_14</th>\n",
              "      <td>0.000752</td>\n",
              "    </tr>\n",
              "    <tr>\n",
              "      <th>circular_15</th>\n",
              "      <td>0.000081</td>\n",
              "    </tr>\n",
              "  </tbody>\n",
              "</table>\n",
              "</div>\n",
              "    <div class=\"colab-df-buttons\">\n",
              "\n",
              "  <div class=\"colab-df-container\">\n",
              "    <button class=\"colab-df-convert\" onclick=\"convertToInteractive('df-7b09c5be-4cf3-437b-8236-14aa9a9b2e79')\"\n",
              "            title=\"Convert this dataframe to an interactive table.\"\n",
              "            style=\"display:none;\">\n",
              "\n",
              "  <svg xmlns=\"http://www.w3.org/2000/svg\" height=\"24px\" viewBox=\"0 -960 960 960\">\n",
              "    <path d=\"M120-120v-720h720v720H120Zm60-500h600v-160H180v160Zm220 220h160v-160H400v160Zm0 220h160v-160H400v160ZM180-400h160v-160H180v160Zm440 0h160v-160H620v160ZM180-180h160v-160H180v160Zm440 0h160v-160H620v160Z\"/>\n",
              "  </svg>\n",
              "    </button>\n",
              "\n",
              "  <style>\n",
              "    .colab-df-container {\n",
              "      display:flex;\n",
              "      gap: 12px;\n",
              "    }\n",
              "\n",
              "    .colab-df-convert {\n",
              "      background-color: #E8F0FE;\n",
              "      border: none;\n",
              "      border-radius: 50%;\n",
              "      cursor: pointer;\n",
              "      display: none;\n",
              "      fill: #1967D2;\n",
              "      height: 32px;\n",
              "      padding: 0 0 0 0;\n",
              "      width: 32px;\n",
              "    }\n",
              "\n",
              "    .colab-df-convert:hover {\n",
              "      background-color: #E2EBFA;\n",
              "      box-shadow: 0px 1px 2px rgba(60, 64, 67, 0.3), 0px 1px 3px 1px rgba(60, 64, 67, 0.15);\n",
              "      fill: #174EA6;\n",
              "    }\n",
              "\n",
              "    .colab-df-buttons div {\n",
              "      margin-bottom: 4px;\n",
              "    }\n",
              "\n",
              "    [theme=dark] .colab-df-convert {\n",
              "      background-color: #3B4455;\n",
              "      fill: #D2E3FC;\n",
              "    }\n",
              "\n",
              "    [theme=dark] .colab-df-convert:hover {\n",
              "      background-color: #434B5C;\n",
              "      box-shadow: 0px 1px 3px 1px rgba(0, 0, 0, 0.15);\n",
              "      filter: drop-shadow(0px 1px 2px rgba(0, 0, 0, 0.3));\n",
              "      fill: #FFFFFF;\n",
              "    }\n",
              "  </style>\n",
              "\n",
              "    <script>\n",
              "      const buttonEl =\n",
              "        document.querySelector('#df-7b09c5be-4cf3-437b-8236-14aa9a9b2e79 button.colab-df-convert');\n",
              "      buttonEl.style.display =\n",
              "        google.colab.kernel.accessAllowed ? 'block' : 'none';\n",
              "\n",
              "      async function convertToInteractive(key) {\n",
              "        const element = document.querySelector('#df-7b09c5be-4cf3-437b-8236-14aa9a9b2e79');\n",
              "        const dataTable =\n",
              "          await google.colab.kernel.invokeFunction('convertToInteractive',\n",
              "                                                    [key], {});\n",
              "        if (!dataTable) return;\n",
              "\n",
              "        const docLinkHtml = 'Like what you see? Visit the ' +\n",
              "          '<a target=\"_blank\" href=https://colab.research.google.com/notebooks/data_table.ipynb>data table notebook</a>'\n",
              "          + ' to learn more about interactive tables.';\n",
              "        element.innerHTML = '';\n",
              "        dataTable['output_type'] = 'display_data';\n",
              "        await google.colab.output.renderOutput(dataTable, element);\n",
              "        const docLink = document.createElement('div');\n",
              "        docLink.innerHTML = docLinkHtml;\n",
              "        element.appendChild(docLink);\n",
              "      }\n",
              "    </script>\n",
              "  </div>\n",
              "\n",
              "\n",
              "<div id=\"df-87669ebc-6774-4ba6-9ff0-8671ede11271\">\n",
              "  <button class=\"colab-df-quickchart\" onclick=\"quickchart('df-87669ebc-6774-4ba6-9ff0-8671ede11271')\"\n",
              "            title=\"Suggest charts\"\n",
              "            style=\"display:none;\">\n",
              "\n",
              "<svg xmlns=\"http://www.w3.org/2000/svg\" height=\"24px\"viewBox=\"0 0 24 24\"\n",
              "     width=\"24px\">\n",
              "    <g>\n",
              "        <path d=\"M19 3H5c-1.1 0-2 .9-2 2v14c0 1.1.9 2 2 2h14c1.1 0 2-.9 2-2V5c0-1.1-.9-2-2-2zM9 17H7v-7h2v7zm4 0h-2V7h2v10zm4 0h-2v-4h2v4z\"/>\n",
              "    </g>\n",
              "</svg>\n",
              "  </button>\n",
              "\n",
              "<style>\n",
              "  .colab-df-quickchart {\n",
              "      --bg-color: #E8F0FE;\n",
              "      --fill-color: #1967D2;\n",
              "      --hover-bg-color: #E2EBFA;\n",
              "      --hover-fill-color: #174EA6;\n",
              "      --disabled-fill-color: #AAA;\n",
              "      --disabled-bg-color: #DDD;\n",
              "  }\n",
              "\n",
              "  [theme=dark] .colab-df-quickchart {\n",
              "      --bg-color: #3B4455;\n",
              "      --fill-color: #D2E3FC;\n",
              "      --hover-bg-color: #434B5C;\n",
              "      --hover-fill-color: #FFFFFF;\n",
              "      --disabled-bg-color: #3B4455;\n",
              "      --disabled-fill-color: #666;\n",
              "  }\n",
              "\n",
              "  .colab-df-quickchart {\n",
              "    background-color: var(--bg-color);\n",
              "    border: none;\n",
              "    border-radius: 50%;\n",
              "    cursor: pointer;\n",
              "    display: none;\n",
              "    fill: var(--fill-color);\n",
              "    height: 32px;\n",
              "    padding: 0;\n",
              "    width: 32px;\n",
              "  }\n",
              "\n",
              "  .colab-df-quickchart:hover {\n",
              "    background-color: var(--hover-bg-color);\n",
              "    box-shadow: 0 1px 2px rgba(60, 64, 67, 0.3), 0 1px 3px 1px rgba(60, 64, 67, 0.15);\n",
              "    fill: var(--button-hover-fill-color);\n",
              "  }\n",
              "\n",
              "  .colab-df-quickchart-complete:disabled,\n",
              "  .colab-df-quickchart-complete:disabled:hover {\n",
              "    background-color: var(--disabled-bg-color);\n",
              "    fill: var(--disabled-fill-color);\n",
              "    box-shadow: none;\n",
              "  }\n",
              "\n",
              "  .colab-df-spinner {\n",
              "    border: 2px solid var(--fill-color);\n",
              "    border-color: transparent;\n",
              "    border-bottom-color: var(--fill-color);\n",
              "    animation:\n",
              "      spin 1s steps(1) infinite;\n",
              "  }\n",
              "\n",
              "  @keyframes spin {\n",
              "    0% {\n",
              "      border-color: transparent;\n",
              "      border-bottom-color: var(--fill-color);\n",
              "      border-left-color: var(--fill-color);\n",
              "    }\n",
              "    20% {\n",
              "      border-color: transparent;\n",
              "      border-left-color: var(--fill-color);\n",
              "      border-top-color: var(--fill-color);\n",
              "    }\n",
              "    30% {\n",
              "      border-color: transparent;\n",
              "      border-left-color: var(--fill-color);\n",
              "      border-top-color: var(--fill-color);\n",
              "      border-right-color: var(--fill-color);\n",
              "    }\n",
              "    40% {\n",
              "      border-color: transparent;\n",
              "      border-right-color: var(--fill-color);\n",
              "      border-top-color: var(--fill-color);\n",
              "    }\n",
              "    60% {\n",
              "      border-color: transparent;\n",
              "      border-right-color: var(--fill-color);\n",
              "    }\n",
              "    80% {\n",
              "      border-color: transparent;\n",
              "      border-right-color: var(--fill-color);\n",
              "      border-bottom-color: var(--fill-color);\n",
              "    }\n",
              "    90% {\n",
              "      border-color: transparent;\n",
              "      border-bottom-color: var(--fill-color);\n",
              "    }\n",
              "  }\n",
              "</style>\n",
              "\n",
              "  <script>\n",
              "    async function quickchart(key) {\n",
              "      const quickchartButtonEl =\n",
              "        document.querySelector('#' + key + ' button');\n",
              "      quickchartButtonEl.disabled = true;  // To prevent multiple clicks.\n",
              "      quickchartButtonEl.classList.add('colab-df-spinner');\n",
              "      try {\n",
              "        const charts = await google.colab.kernel.invokeFunction(\n",
              "            'suggestCharts', [key], {});\n",
              "      } catch (error) {\n",
              "        console.error('Error during call to suggestCharts:', error);\n",
              "      }\n",
              "      quickchartButtonEl.classList.remove('colab-df-spinner');\n",
              "      quickchartButtonEl.classList.add('colab-df-quickchart-complete');\n",
              "    }\n",
              "    (() => {\n",
              "      let quickchartButtonEl =\n",
              "        document.querySelector('#df-87669ebc-6774-4ba6-9ff0-8671ede11271 button');\n",
              "      quickchartButtonEl.style.display =\n",
              "        google.colab.kernel.accessAllowed ? 'block' : 'none';\n",
              "    })();\n",
              "  </script>\n",
              "</div>\n",
              "\n",
              "    </div>\n",
              "  </div>\n"
            ],
            "text/plain": [
              "                    0\n",
              "circular_1   0.000114\n",
              "circular_2   0.000519\n",
              "circular_3   0.000482\n",
              "circular_4   0.000126\n",
              "circular_5   0.001219\n",
              "circular_6   0.000187\n",
              "circular_7   0.000324\n",
              "circular_8   0.000000\n",
              "circular_9   0.000170\n",
              "circular_10  0.000061\n",
              "circular_11  0.000204\n",
              "circular_12  0.000039\n",
              "circular_13  0.000421\n",
              "circular_14  0.000752\n",
              "circular_15  0.000081"
            ]
          },
          "execution_count": 32,
          "metadata": {},
          "output_type": "execute_result"
        }
      ],
      "source": [
        "rf_preds = rf.predict(X_tst)\n"
      ]
    },
    {
      "cell_type": "code",
      "execution_count": null,
      "metadata": {
        "colab": {
          "base_uri": "https://localhost:8080/"
        },
        "id": "Y5D-uDpogvh7",
        "outputId": "7476e410-050a-4b8c-f945-41025fa87379"
      },
      "outputs": [
        {
          "name": "stdout",
          "output_type": "stream",
          "text": [
            "              precision    recall  f1-score   support\n",
            "\n",
            "         0.0       0.77      0.95      0.85       132\n",
            "         1.0       0.56      0.19      0.29        47\n",
            "\n",
            "    accuracy                           0.75       179\n",
            "   macro avg       0.66      0.57      0.57       179\n",
            "weighted avg       0.71      0.75      0.70       179\n",
            "\n"
          ]
        }
      ],
      "source": [
        "print(classification_report(y_tst, rf_preds))"
      ]
    },
    {
      "cell_type": "markdown",
      "metadata": {
        "id": "7iP67sIq0j_L"
      },
      "source": [
        "Second model using Hyperparameter tuning"
      ]
    },
    {
      "cell_type": "code",
      "execution_count": 33,
      "metadata": {
        "id": "mpItta5TjFYS"
      },
      "outputs": [],
      "source": [
        "rf2 = RandomForestClassifier()"
      ]
    },
    {
      "cell_type": "code",
      "execution_count": 34,
      "metadata": {
        "id": "-4bernWrk2eJ"
      },
      "outputs": [],
      "source": [
        "param_grid = [{\n",
        "    'n_estimators': [100, 500, 1000],\n",
        "    'max_depth': [5, 10, 15, 20],\n",
        "    'max_samples': [50, 80, 100]\n",
        "    #'random_state': [42]\n",
        "}]"
      ]
    },
    {
      "cell_type": "markdown",
      "metadata": {
        "id": "ntjVZEON0oNP"
      },
      "source": [
        "Using GridSearchCV to select optimal parameters for model"
      ]
    },
    {
      "cell_type": "code",
      "execution_count": 39,
      "metadata": {
        "id": "hV9HJMwAlbbp"
      },
      "outputs": [],
      "source": [
        "from sklearn.model_selection import GridSearchCV\n",
        "grid_search = GridSearchCV(rf2, param_grid, cv=2, scoring='accuracy', n_jobs=-1)"
      ]
    },
    {
      "cell_type": "code",
      "execution_count": 40,
      "metadata": {
        "colab": {
          "base_uri": "https://localhost:8080/",
          "height": 118
        },
        "id": "M3Hrtx1pl8P5",
        "outputId": "a3f26f8a-c00e-4700-91fd-11b16427aadb"
      },
      "outputs": [
        {
          "data": {
            "text/html": [
              "<style>#sk-container-id-2 {color: black;background-color: white;}#sk-container-id-2 pre{padding: 0;}#sk-container-id-2 div.sk-toggleable {background-color: white;}#sk-container-id-2 label.sk-toggleable__label {cursor: pointer;display: block;width: 100%;margin-bottom: 0;padding: 0.3em;box-sizing: border-box;text-align: center;}#sk-container-id-2 label.sk-toggleable__label-arrow:before {content: \"▸\";float: left;margin-right: 0.25em;color: #696969;}#sk-container-id-2 label.sk-toggleable__label-arrow:hover:before {color: black;}#sk-container-id-2 div.sk-estimator:hover label.sk-toggleable__label-arrow:before {color: black;}#sk-container-id-2 div.sk-toggleable__content {max-height: 0;max-width: 0;overflow: hidden;text-align: left;background-color: #f0f8ff;}#sk-container-id-2 div.sk-toggleable__content pre {margin: 0.2em;color: black;border-radius: 0.25em;background-color: #f0f8ff;}#sk-container-id-2 input.sk-toggleable__control:checked~div.sk-toggleable__content {max-height: 200px;max-width: 100%;overflow: auto;}#sk-container-id-2 input.sk-toggleable__control:checked~label.sk-toggleable__label-arrow:before {content: \"▾\";}#sk-container-id-2 div.sk-estimator input.sk-toggleable__control:checked~label.sk-toggleable__label {background-color: #d4ebff;}#sk-container-id-2 div.sk-label input.sk-toggleable__control:checked~label.sk-toggleable__label {background-color: #d4ebff;}#sk-container-id-2 input.sk-hidden--visually {border: 0;clip: rect(1px 1px 1px 1px);clip: rect(1px, 1px, 1px, 1px);height: 1px;margin: -1px;overflow: hidden;padding: 0;position: absolute;width: 1px;}#sk-container-id-2 div.sk-estimator {font-family: monospace;background-color: #f0f8ff;border: 1px dotted black;border-radius: 0.25em;box-sizing: border-box;margin-bottom: 0.5em;}#sk-container-id-2 div.sk-estimator:hover {background-color: #d4ebff;}#sk-container-id-2 div.sk-parallel-item::after {content: \"\";width: 100%;border-bottom: 1px solid gray;flex-grow: 1;}#sk-container-id-2 div.sk-label:hover label.sk-toggleable__label {background-color: #d4ebff;}#sk-container-id-2 div.sk-serial::before {content: \"\";position: absolute;border-left: 1px solid gray;box-sizing: border-box;top: 0;bottom: 0;left: 50%;z-index: 0;}#sk-container-id-2 div.sk-serial {display: flex;flex-direction: column;align-items: center;background-color: white;padding-right: 0.2em;padding-left: 0.2em;position: relative;}#sk-container-id-2 div.sk-item {position: relative;z-index: 1;}#sk-container-id-2 div.sk-parallel {display: flex;align-items: stretch;justify-content: center;background-color: white;position: relative;}#sk-container-id-2 div.sk-item::before, #sk-container-id-2 div.sk-parallel-item::before {content: \"\";position: absolute;border-left: 1px solid gray;box-sizing: border-box;top: 0;bottom: 0;left: 50%;z-index: -1;}#sk-container-id-2 div.sk-parallel-item {display: flex;flex-direction: column;z-index: 1;position: relative;background-color: white;}#sk-container-id-2 div.sk-parallel-item:first-child::after {align-self: flex-end;width: 50%;}#sk-container-id-2 div.sk-parallel-item:last-child::after {align-self: flex-start;width: 50%;}#sk-container-id-2 div.sk-parallel-item:only-child::after {width: 0;}#sk-container-id-2 div.sk-dashed-wrapped {border: 1px dashed gray;margin: 0 0.4em 0.5em 0.4em;box-sizing: border-box;padding-bottom: 0.4em;background-color: white;}#sk-container-id-2 div.sk-label label {font-family: monospace;font-weight: bold;display: inline-block;line-height: 1.2em;}#sk-container-id-2 div.sk-label-container {text-align: center;}#sk-container-id-2 div.sk-container {/* jupyter's `normalize.less` sets `[hidden] { display: none; }` but bootstrap.min.css set `[hidden] { display: none !important; }` so we also need the `!important` here to be able to override the default hidden behavior on the sphinx rendered scikit-learn.org. See: https://github.com/scikit-learn/scikit-learn/issues/21755 */display: inline-block !important;position: relative;}#sk-container-id-2 div.sk-text-repr-fallback {display: none;}</style><div id=\"sk-container-id-2\" class=\"sk-top-container\"><div class=\"sk-text-repr-fallback\"><pre>GridSearchCV(cv=2, estimator=RandomForestClassifier(), n_jobs=-1,\n",
              "             param_grid=[{&#x27;max_depth&#x27;: [5, 10, 15, 20],\n",
              "                          &#x27;max_samples&#x27;: [50, 80, 100],\n",
              "                          &#x27;n_estimators&#x27;: [100, 500, 1000]}],\n",
              "             scoring=&#x27;accuracy&#x27;)</pre><b>In a Jupyter environment, please rerun this cell to show the HTML representation or trust the notebook. <br />On GitHub, the HTML representation is unable to render, please try loading this page with nbviewer.org.</b></div><div class=\"sk-container\" hidden><div class=\"sk-item sk-dashed-wrapped\"><div class=\"sk-label-container\"><div class=\"sk-label sk-toggleable\"><input class=\"sk-toggleable__control sk-hidden--visually\" id=\"sk-estimator-id-2\" type=\"checkbox\" ><label for=\"sk-estimator-id-2\" class=\"sk-toggleable__label sk-toggleable__label-arrow\">GridSearchCV</label><div class=\"sk-toggleable__content\"><pre>GridSearchCV(cv=2, estimator=RandomForestClassifier(), n_jobs=-1,\n",
              "             param_grid=[{&#x27;max_depth&#x27;: [5, 10, 15, 20],\n",
              "                          &#x27;max_samples&#x27;: [50, 80, 100],\n",
              "                          &#x27;n_estimators&#x27;: [100, 500, 1000]}],\n",
              "             scoring=&#x27;accuracy&#x27;)</pre></div></div></div><div class=\"sk-parallel\"><div class=\"sk-parallel-item\"><div class=\"sk-item\"><div class=\"sk-label-container\"><div class=\"sk-label sk-toggleable\"><input class=\"sk-toggleable__control sk-hidden--visually\" id=\"sk-estimator-id-3\" type=\"checkbox\" ><label for=\"sk-estimator-id-3\" class=\"sk-toggleable__label sk-toggleable__label-arrow\">estimator: RandomForestClassifier</label><div class=\"sk-toggleable__content\"><pre>RandomForestClassifier()</pre></div></div></div><div class=\"sk-serial\"><div class=\"sk-item\"><div class=\"sk-estimator sk-toggleable\"><input class=\"sk-toggleable__control sk-hidden--visually\" id=\"sk-estimator-id-4\" type=\"checkbox\" ><label for=\"sk-estimator-id-4\" class=\"sk-toggleable__label sk-toggleable__label-arrow\">RandomForestClassifier</label><div class=\"sk-toggleable__content\"><pre>RandomForestClassifier()</pre></div></div></div></div></div></div></div></div></div></div>"
            ],
            "text/plain": [
              "GridSearchCV(cv=2, estimator=RandomForestClassifier(), n_jobs=-1,\n",
              "             param_grid=[{'max_depth': [5, 10, 15, 20],\n",
              "                          'max_samples': [50, 80, 100],\n",
              "                          'n_estimators': [100, 500, 1000]}],\n",
              "             scoring='accuracy')"
            ]
          },
          "execution_count": 40,
          "metadata": {},
          "output_type": "execute_result"
        }
      ],
      "source": [
        "grid_search.fit(X_trn, y_trn)"
      ]
    },
    {
      "cell_type": "code",
      "execution_count": 37,
      "metadata": {
        "colab": {
          "base_uri": "https://localhost:8080/",
          "height": 159
        },
        "id": "InxTrJm9me9i",
        "outputId": "3f5ae36a-5f13-478e-eab3-83cca527a04b"
      },
      "outputs": [
        {
          "ename": "AttributeError",
          "evalue": "'GridSearchCV' object has no attribute 'best_score_'",
          "output_type": "error",
          "traceback": [
            "\u001b[0;31m---------------------------------------------------------------------------\u001b[0m",
            "\u001b[0;31mAttributeError\u001b[0m                            Traceback (most recent call last)",
            "\u001b[0;32m<ipython-input-37-73dce24cbb62>\u001b[0m in \u001b[0;36m<cell line: 1>\u001b[0;34m()\u001b[0m\n\u001b[0;32m----> 1\u001b[0;31m \u001b[0mprint\u001b[0m\u001b[0;34m(\u001b[0m\u001b[0;34m\"Grid search best score\"\u001b[0m\u001b[0;34m,\u001b[0m \u001b[0mgrid_search\u001b[0m\u001b[0;34m.\u001b[0m\u001b[0mbest_score_\u001b[0m\u001b[0;34m)\u001b[0m\u001b[0;34m\u001b[0m\u001b[0;34m\u001b[0m\u001b[0m\n\u001b[0m\u001b[1;32m      2\u001b[0m \u001b[0mprint\u001b[0m\u001b[0;34m(\u001b[0m\u001b[0;34m\"Grid search best params\"\u001b[0m\u001b[0;34m,\u001b[0m\u001b[0mgrid_search\u001b[0m\u001b[0;34m.\u001b[0m\u001b[0mbest_params_\u001b[0m\u001b[0;34m)\u001b[0m\u001b[0;34m\u001b[0m\u001b[0;34m\u001b[0m\u001b[0m\n",
            "\u001b[0;31mAttributeError\u001b[0m: 'GridSearchCV' object has no attribute 'best_score_'"
          ]
        }
      ],
      "source": [
        "print(\"Grid search best score\", grid_search.best_score_)\n",
        "print(\"Grid search best params\",grid_search.best_params_)"
      ]
    },
    {
      "cell_type": "markdown",
      "metadata": {
        "id": "9m4ZuA_Q0wSu"
      },
      "source": [
        "Binary Classification Metrics\n"
      ]
    },
    {
      "cell_type": "code",
      "execution_count": null,
      "metadata": {
        "colab": {
          "base_uri": "https://localhost:8080/"
        },
        "id": "mM9OEnT7m--E",
        "outputId": "f07f9c8c-6c2b-440c-9166-549e147b10a8"
      },
      "outputs": [
        {
          "name": "stdout",
          "output_type": "stream",
          "text": [
            "Accuracy score:  0.7486033519553073\n",
            "ROC AUC score:  0.6389997150185237\n",
            "Average precision score:  0.46684261221344636\n"
          ]
        }
      ],
      "source": [
        "print(\"Accuracy score: \", accuracy_score(y_test, grid_search.predict(X_test)))\n",
        "print(\"ROC AUC score: \", roc_auc_score(y_test, grid_search.predict(X_test)))\n",
        "print(\"Average precision score: \", average_precision_score(y_test, grid_search.predict(X_test)))"
      ]
    },
    {
      "cell_type": "markdown",
      "metadata": {
        "id": "vD0v7xGOjUy1"
      },
      "source": []
    },
    {
      "cell_type": "markdown",
      "metadata": {
        "id": "sM95zXqL0Yds"
      },
      "source": []
    },
    {
      "cell_type": "markdown",
      "metadata": {
        "id": "qt3CgBjnz9Q3"
      },
      "source": []
    }
  ],
  "metadata": {
    "colab": {
      "authorship_tag": "ABX9TyNq3Z13kpu2j0aig5YtoGV1",
      "include_colab_link": true,
      "mount_file_id": "1AC-eckq_uuls85LPzg30wfub35kj0fsD",
      "provenance": []
    },
    "kernelspec": {
      "display_name": "Python 3",
      "name": "python3"
    },
    "language_info": {
      "name": "python"
    }
  },
  "nbformat": 4,
  "nbformat_minor": 0
}
