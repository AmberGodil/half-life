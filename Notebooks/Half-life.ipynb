{
  "cells": [
    {
      "cell_type": "code",
      "execution_count": 2,
      "metadata": {
        "colab": {
          "base_uri": "https://localhost:8080/"
        },
        "id": "LiKU89cs_d--",
        "outputId": "c097b6a1-f3d9-46bb-c29b-8069f4852bcb"
      },
      "outputs": [
        {
          "name": "stdout",
          "output_type": "stream",
          "text": [
            "Requirement already satisfied: deepchem in /Applications/anaconda3/lib/python3.8/site-packages (2.8.0)\n",
            "Requirement already satisfied: scipy>=1.10.1 in /Applications/anaconda3/lib/python3.8/site-packages (from deepchem) (1.10.1)\n",
            "Requirement already satisfied: numpy>=1.21 in /Applications/anaconda3/lib/python3.8/site-packages (from deepchem) (1.24.4)\n",
            "Requirement already satisfied: scikit-learn in /Applications/anaconda3/lib/python3.8/site-packages (from deepchem) (0.24.1)\n",
            "Requirement already satisfied: joblib in /Applications/anaconda3/lib/python3.8/site-packages (from deepchem) (1.0.1)\n",
            "Requirement already satisfied: rdkit in /Applications/anaconda3/lib/python3.8/site-packages (from deepchem) (2024.3.3)\n",
            "Requirement already satisfied: pandas in /Applications/anaconda3/lib/python3.8/site-packages (from deepchem) (1.2.4)\n",
            "Requirement already satisfied: sympy in /Applications/anaconda3/lib/python3.8/site-packages (from deepchem) (1.8)\n",
            "Requirement already satisfied: python-dateutil>=2.7.3 in /Applications/anaconda3/lib/python3.8/site-packages (from pandas->deepchem) (2.8.1)\n",
            "Requirement already satisfied: pytz>=2017.3 in /Applications/anaconda3/lib/python3.8/site-packages (from pandas->deepchem) (2021.1)\n",
            "Requirement already satisfied: six>=1.5 in /Applications/anaconda3/lib/python3.8/site-packages (from python-dateutil>=2.7.3->pandas->deepchem) (1.15.0)\n",
            "Requirement already satisfied: Pillow in /Applications/anaconda3/lib/python3.8/site-packages (from rdkit->deepchem) (8.2.0)\n",
            "Requirement already satisfied: threadpoolctl>=2.0.0 in /Applications/anaconda3/lib/python3.8/site-packages (from scikit-learn->deepchem) (2.1.0)\n",
            "Requirement already satisfied: mpmath>=0.19 in /Applications/anaconda3/lib/python3.8/site-packages (from sympy->deepchem) (1.2.1)\n",
            "Note: you may need to restart the kernel to use updated packages.\n",
            "Requirement already satisfied: rdkit-pypi in /Applications/anaconda3/lib/python3.8/site-packages (2022.9.5)\n",
            "Requirement already satisfied: Pillow in /Applications/anaconda3/lib/python3.8/site-packages (from rdkit-pypi) (8.2.0)\n",
            "Requirement already satisfied: numpy in /Applications/anaconda3/lib/python3.8/site-packages (from rdkit-pypi) (1.24.4)\n",
            "Note: you may need to restart the kernel to use updated packages.\n"
          ]
        },
        {
          "name": "stderr",
          "output_type": "stream",
          "text": [
            "Skipped loading some Pytorch utilities, missing a dependency. No module named 'torch'\n"
          ]
        },
        {
          "name": "stdout",
          "output_type": "stream",
          "text": [
            "This module requires PyTorch to be installed.\n"
          ]
        },
        {
          "name": "stderr",
          "output_type": "stream",
          "text": [
            "Skipped loading some Tensorflow models, missing a dependency. No module named 'tensorflow'\n",
            "Skipped loading some PyTorch models, missing a dependency. No module named 'torch'\n",
            "No module named 'torch'\n",
            "Skipped loading modules with pytorch-geometric dependency, missing a dependency. No module named 'torch'\n",
            "Skipped loading modules with pytorch-lightning dependency, missing a dependency. No module named 'torch'\n",
            "Skipped loading some Jax models, missing a dependency. No module named 'jax'\n",
            "Skipped loading some PyTorch models, missing a dependency. No module named 'tensorflow'\n"
          ]
        }
      ],
      "source": [
        "%pip install deepchem\n",
        "%pip install rdkit-pypi\n",
        "\n",
        "import pandas as pd\n",
        "import numpy as np\n",
        "import deepchem as dc\n",
        "\n",
        "from rdkit import Chem\n",
        "from rdkit.Chem import Descriptors\n",
        "from rdkit.ML.Descriptors import MoleculeDescriptors\n",
        "\n",
        "import warnings\n",
        "\n",
        "warnings.filterwarnings('ignore')\n"
      ]
    },
    {
      "cell_type": "code",
      "execution_count": 3,
      "metadata": {
        "colab": {
          "base_uri": "https://localhost:8080/",
          "height": 669
        },
        "id": "Etmu6-An_rZ_",
        "outputId": "34146d7b-40d3-48cc-c17a-a8744cf57b8c"
      },
      "outputs": [],
      "source": [
        "df = pd.read_csv(\"../Data/half-life-dataset.csv\")\n",
        "\n",
        "# Drop the unwanted column\n",
        "df = df.drop('Unnamed: 4', axis=1)  \n",
        "\n",
        "# Save the DataFrame to a new CSV file\n",
        "df.to_csv(\"../Data/half-life-dataset-updated.csv\", index=False)"
      ]
    },
    {
      "cell_type": "markdown",
      "metadata": {},
      "source": [
        "Modify Inchi for row 561 and 679. Original Inchi causing issue when converting to Mol."
      ]
    },
    {
      "cell_type": "code",
      "execution_count": 4,
      "metadata": {},
      "outputs": [
        {
          "name": "stdout",
          "output_type": "stream",
          "text": [
            "Modified value: InChI=1S/C22H12F4N4O/c23-18-4-3-15(8-17(18)22(24,25)26)30-20(31)6-2-13-9-27-19-5-1-12(7-16(19)21(13)30)14-10-28-29-11-14/h1-11H,(H,28,29)\n",
            "Modified value: InChI=1S/C25H30N4O2/c30-25(27-31)14-11-21-9-12-23-22(19-21)26-24(13-10-20-7-3-1-4-8-20)29(23)18-17-28-15-5-2-6-16-28/h1,3-4,7-9,11-12,14,19,31H,2,5-6,10,13,15-18H2,(H,27,30)/b14-11+\n",
            "CSV file copied and modified successfully.\n"
          ]
        }
      ],
      "source": [
        "new_inchi_561 = 'InChI=1S/C22H12F4N4O/c23-18-4-3-15(8-17(18)22(24,25)26)30-20(31)6-2-13-9-27-19-5-1-12(7-16(19)21(13)30)14-10-28-29-11-14/h1-11H,(H,28,29)'\n",
        "new_inchi_679 = 'InChI=1S/C25H30N4O2/c30-25(27-31)14-11-21-9-12-23-22(19-21)26-24(13-10-20-7-3-1-4-8-20)29(23)18-17-28-15-5-2-6-16-28/h1,3-4,7-9,11-12,14,19,31H,2,5-6,10,13,15-18H2,(H,27,30)/b14-11+'\n",
        "\n",
        "df.at[561, 'PUBCHEM_IUPAC_INCHI'] = new_inchi_561\n",
        "df.at[679, 'PUBCHEM_IUPAC_INCHI'] = new_inchi_679\n",
        "\n",
        "df.to_csv('modified_half-life.csv', index=False)\n",
        "\n",
        "print(\"Modified value:\", df.at[561, 'PUBCHEM_IUPAC_INCHI'])\n",
        "print(\"Modified value:\", df.at[679, 'PUBCHEM_IUPAC_INCHI'])\n",
        "\n",
        "print(\"CSV file copied and modified successfully.\")"
      ]
    },
    {
      "cell_type": "markdown",
      "metadata": {
        "id": "dBZjj-BEoylO"
      },
      "source": [
        "Convert each molecule to mol from Inchi and then from mol to SMILES"
      ]
    },
    {
      "cell_type": "code",
      "execution_count": 5,
      "metadata": {
        "colab": {
          "base_uri": "https://localhost:8080/",
          "height": 521
        },
        "id": "cM_WCFdM0kfz",
        "outputId": "5272c21f-69bd-424b-fd13-129ae8f40a7d"
      },
      "outputs": [],
      "source": [
        "df['mol'] = df['PUBCHEM_IUPAC_INCHI'].apply(Chem.MolFromInchi)\n",
        "df['SMILES'] = df['mol'].apply(lambda x: Chem.MolToSmiles(x) if x is not None else None)"
      ]
    },
    {
      "cell_type": "markdown",
      "metadata": {},
      "source": [
        "Split dataset into 80% trainning 20% testing"
      ]
    },
    {
      "cell_type": "code",
      "execution_count": 6,
      "metadata": {},
      "outputs": [
        {
          "name": "stdout",
          "output_type": "stream",
          "text": [
            "Training and testing sets created and saved as separate CSV files.\n"
          ]
        }
      ],
      "source": [
        "from sklearn.model_selection import train_test_split\n",
        "\n",
        "\n",
        "train_df, test_df = train_test_split(df, test_size=0.2, random_state=42, stratify=df['Binary Classification'])\n",
        "\n",
        "# Save the training set to a CSV file\n",
        "train_df.to_csv(\"../data/half-life-train.csv\", index=False)\n",
        "\n",
        "# Save the testing set to a CSV file\n",
        "test_df.to_csv(\"../data/half-life-test.csv\", index=False)\n",
        "\n",
        "print(\"Training and testing sets created and saved as separate CSV files.\")"
      ]
    },
    {
      "cell_type": "code",
      "execution_count": 7,
      "metadata": {},
      "outputs": [],
      "source": [
        "DATA_DIR = \"../Data\"\n",
        "\n",
        "TRN_PATH = f\"{DATA_DIR}/half-life-train.csv\"\n",
        "TST_PATH = f\"{DATA_DIR}/half-life-test.csv\"\n"
      ]
    },
    {
      "cell_type": "code",
      "execution_count": 8,
      "metadata": {},
      "outputs": [],
      "source": [
        "df_trn = pd.read_csv(TRN_PATH)\n",
        "df_tst = pd.read_csv(TST_PATH)"
      ]
    },
    {
      "cell_type": "markdown",
      "metadata": {},
      "source": [
        "Simplify dataframes so they only include SMILES and Binary Classification columns"
      ]
    },
    {
      "cell_type": "code",
      "execution_count": 10,
      "metadata": {
        "id": "ZXFI5Lqb4xFa"
      },
      "outputs": [],
      "source": [
        "df_trn= df_trn[['SMILES', 'Binary Classification']]\n",
        "df_tst= df_tst[['SMILES', 'Binary Classification']]\n"
      ]
    },
    {
      "cell_type": "markdown",
      "metadata": {
        "id": "wicXV8hKz6KH"
      },
      "source": [
        "Using deepchem to generate features: RDKit descriptors and circular fingerprints"
      ]
    },
    {
      "cell_type": "code",
      "execution_count": 11,
      "metadata": {},
      "outputs": [
        {
          "name": "stdout",
          "output_type": "stream",
          "text": [
            "Generating circular fingerprints...\n",
            "Generating rdkit fingerprints...\n",
            "Done.\n",
            "Shape of trn set = (715, 2258)\n",
            "Shape of tst set = (179, 2258)\n"
          ]
        }
      ],
      "source": [
        "featurizers = {\n",
        "    'circular': dc.feat.CircularFingerprint(size=2048, radius=4), \n",
        "    'rdkit': dc.feat.RDKitDescriptors()\n",
        "}\n",
        "\n",
        "def featurize(df, key, featurizer):\n",
        "    feats = featurizer.featurize(df['SMILES'])\n",
        "    pd_feats = pd.DataFrame(feats, columns=[key + '_' + str(i+1) for i in range(feats.shape[1])])\n",
        "    return pd.concat([df, pd_feats], axis=1)\n",
        "\n",
        "for k, f in featurizers.items():\n",
        "    print(f\"Generating {k} fingerprints...\")\n",
        "    df_trn = featurize(df_trn, k, f)\n",
        "    df_tst = featurize(df_tst, k, f)\n",
        "print(\"Done.\")\n",
        "\n",
        "print(f\"Shape of trn set = {df_trn.shape}\")\n",
        "print(f\"Shape of tst set = {df_tst.shape}\")"
      ]
    },
    {
      "cell_type": "code",
      "execution_count": 12,
      "metadata": {},
      "outputs": [],
      "source": [
        "# For the training set\n",
        "X_trn = df_trn.drop(['SMILES', 'Binary Classification'], axis=1)\n",
        "y_trn = df_trn['Binary Classification']\n",
        "\n",
        "# For the testing set\n",
        "X_tst = df_tst.drop(['SMILES', 'Binary Classification'], axis=1)\n",
        "y_tst = df_tst['Binary Classification']"
      ]
    },
    {
      "cell_type": "code",
      "execution_count": 13,
      "metadata": {},
      "outputs": [
        {
          "name": "stdout",
          "output_type": "stream",
          "text": [
            "Accuracy scores: [0.73426573 0.76223776 0.77622378 0.73426573 0.78321678]\n",
            "Average accuracy: 0.758041958041958\n",
            "ROC AUC scores: [0.78382838 0.7932579  0.86940123 0.8019802  0.83451202]\n",
            "Average ROC AUC: 0.8165959453088165\n",
            "Average Precision scores: [0.37683613 0.42218892 0.4542853  0.36474636 0.4764036 ]\n",
            "Average Precision: 0.4188920616420616\n"
          ]
        }
      ],
      "source": [
        "from sklearn.model_selection import StratifiedKFold\n",
        "from sklearn.ensemble import RandomForestClassifier\n",
        "from sklearn.model_selection import cross_validate\n",
        "from sklearn.metrics import make_scorer, roc_auc_score, average_precision_score, accuracy_score\n",
        "\n",
        "# Initialize StratifiedKFold\n",
        "skf = StratifiedKFold(n_splits=5, shuffle=True, random_state=42)\n",
        "\n",
        "#Initialize RF Classifier\n",
        "rf2 = RandomForestClassifier(n_estimators=1000, max_depth=14, max_samples=80, random_state=42)\n",
        "\n",
        "# Define scoring metrics\n",
        "scoring = {\n",
        "    'accuracy': 'accuracy',\n",
        "    'roc_auc': 'roc_auc',\n",
        "    'average_precision': make_scorer(average_precision_score)\n",
        "}\n",
        "\n",
        "# Perform cross-validation\n",
        "# Perform cross-validation\n",
        "cv_results = cross_validate(rf2, X_trn, y_trn, cv=skf, scoring=scoring)\n",
        "\n",
        "\n",
        "# Check results\n",
        "print(\"Accuracy scores:\", cv_results['test_accuracy'])\n",
        "print(\"Average accuracy:\", cv_results['test_accuracy'].mean())\n",
        "\n",
        "print(\"ROC AUC scores:\", cv_results['test_roc_auc'])\n",
        "print(\"Average ROC AUC:\", cv_results['test_roc_auc'].mean())\n",
        "\n",
        "print(\"Average Precision scores:\", cv_results['test_average_precision'])\n",
        "print(\"Average Precision:\", cv_results['test_average_precision'].mean())"
      ]
    },
    {
      "cell_type": "markdown",
      "metadata": {},
      "source": [
        "Determining classification threshold to maximize F1-score"
      ]
    },
    {
      "cell_type": "code",
      "execution_count": 14,
      "metadata": {},
      "outputs": [
        {
          "name": "stdout",
          "output_type": "stream",
          "text": [
            "Best Threshold: 0.24702\n",
            "Best F1 Score: 0.622673434856176\n"
          ]
        }
      ],
      "source": [
        "from sklearn.model_selection import cross_val_predict\n",
        "from sklearn.metrics import precision_recall_curve, f1_score, auc\n",
        "\n",
        "# Perform cross-validation with probability prediction\n",
        "y_val_probs = cross_val_predict(rf2, X_trn, y_trn, cv=skf, method='predict_proba')[:, 1]\n",
        "\n",
        "# Calculate precision-recall curve\n",
        "precision, recall, thresholds = precision_recall_curve(y_trn, y_val_probs)\n",
        "\n",
        "# Calculate F1 score for each threshold\n",
        "f1_scores = 2 * (precision * recall) / (precision + recall)\n",
        "\n",
        "# Find the index of the maximum F1 score\n",
        "best_index = np.argmax(f1_scores)\n",
        "best_threshold = thresholds[best_index]\n",
        "best_f1_score = f1_scores[best_index]\n",
        "\n",
        "print(\"Best Threshold:\", best_threshold)\n",
        "print(\"Best F1 Score:\", best_f1_score)\n"
      ]
    }
  ],
  "metadata": {
    "colab": {
      "authorship_tag": "ABX9TyNq3Z13kpu2j0aig5YtoGV1",
      "include_colab_link": true,
      "mount_file_id": "1AC-eckq_uuls85LPzg30wfub35kj0fsD",
      "provenance": []
    },
    "kernelspec": {
      "display_name": "Python 3",
      "name": "python3"
    },
    "language_info": {
      "codemirror_mode": {
        "name": "ipython",
        "version": 3
      },
      "file_extension": ".py",
      "mimetype": "text/x-python",
      "name": "python",
      "nbconvert_exporter": "python",
      "pygments_lexer": "ipython3",
      "version": "3.8.8"
    }
  },
  "nbformat": 4,
  "nbformat_minor": 0
}
