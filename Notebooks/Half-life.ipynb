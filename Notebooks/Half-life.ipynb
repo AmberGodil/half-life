{
  "cells": [
    {
      "cell_type": "markdown",
      "metadata": {
        "colab_type": "text",
        "id": "view-in-github"
      },
      "source": [
        "<a href=\"https://colab.research.google.com/github/AmberGodil/ML/blob/main/Notebooks/Half-life.ipynb\" target=\"_parent\"><img src=\"https://colab.research.google.com/assets/colab-badge.svg\" alt=\"Open In Colab\"/></a>"
      ]
    },
    {
      "cell_type": "code",
      "execution_count": 2,
      "metadata": {
        "colab": {
          "base_uri": "https://localhost:8080/"
        },
        "id": "LiKU89cs_d--",
        "outputId": "c097b6a1-f3d9-46bb-c29b-8069f4852bcb"
      },
      "outputs": [
        {
          "name": "stdout",
          "output_type": "stream",
          "text": [
            "Requirement already satisfied: deepchem in /Applications/anaconda3/lib/python3.8/site-packages (2.8.0)\n",
            "Requirement already satisfied: sympy in /Applications/anaconda3/lib/python3.8/site-packages (from deepchem) (1.8)\n",
            "Requirement already satisfied: rdkit in /Applications/anaconda3/lib/python3.8/site-packages (from deepchem) (2024.3.3)\n",
            "Requirement already satisfied: pandas in /Applications/anaconda3/lib/python3.8/site-packages (from deepchem) (1.2.4)\n",
            "Requirement already satisfied: scipy>=1.10.1 in /Applications/anaconda3/lib/python3.8/site-packages (from deepchem) (1.10.1)\n",
            "Requirement already satisfied: joblib in /Applications/anaconda3/lib/python3.8/site-packages (from deepchem) (1.0.1)\n",
            "Requirement already satisfied: numpy>=1.21 in /Applications/anaconda3/lib/python3.8/site-packages (from deepchem) (1.24.4)\n",
            "Requirement already satisfied: scikit-learn in /Applications/anaconda3/lib/python3.8/site-packages (from deepchem) (0.24.1)\n",
            "Requirement already satisfied: python-dateutil>=2.7.3 in /Applications/anaconda3/lib/python3.8/site-packages (from pandas->deepchem) (2.8.1)\n",
            "Requirement already satisfied: pytz>=2017.3 in /Applications/anaconda3/lib/python3.8/site-packages (from pandas->deepchem) (2021.1)\n",
            "Requirement already satisfied: six>=1.5 in /Applications/anaconda3/lib/python3.8/site-packages (from python-dateutil>=2.7.3->pandas->deepchem) (1.15.0)\n",
            "Requirement already satisfied: Pillow in /Applications/anaconda3/lib/python3.8/site-packages (from rdkit->deepchem) (8.2.0)\n",
            "Requirement already satisfied: threadpoolctl>=2.0.0 in /Applications/anaconda3/lib/python3.8/site-packages (from scikit-learn->deepchem) (2.1.0)\n",
            "Requirement already satisfied: mpmath>=0.19 in /Applications/anaconda3/lib/python3.8/site-packages (from sympy->deepchem) (1.2.1)\n",
            "Requirement already satisfied: rdkit-pypi in /Applications/anaconda3/lib/python3.8/site-packages (2022.9.5)\n",
            "Requirement already satisfied: numpy in /Applications/anaconda3/lib/python3.8/site-packages (from rdkit-pypi) (1.24.4)\n",
            "Requirement already satisfied: Pillow in /Applications/anaconda3/lib/python3.8/site-packages (from rdkit-pypi) (8.2.0)\n",
            "Requirement already satisfied: deepchem in /Applications/anaconda3/lib/python3.8/site-packages (2.8.0)\n",
            "Requirement already satisfied: rdkit in /Applications/anaconda3/lib/python3.8/site-packages (from deepchem) (2024.3.3)\n",
            "Requirement already satisfied: pandas in /Applications/anaconda3/lib/python3.8/site-packages (from deepchem) (1.2.4)\n",
            "Requirement already satisfied: sympy in /Applications/anaconda3/lib/python3.8/site-packages (from deepchem) (1.8)\n",
            "Requirement already satisfied: joblib in /Applications/anaconda3/lib/python3.8/site-packages (from deepchem) (1.0.1)\n",
            "Requirement already satisfied: scikit-learn in /Applications/anaconda3/lib/python3.8/site-packages (from deepchem) (0.24.1)\n",
            "Requirement already satisfied: scipy>=1.10.1 in /Applications/anaconda3/lib/python3.8/site-packages (from deepchem) (1.10.1)\n",
            "Requirement already satisfied: numpy>=1.21 in /Applications/anaconda3/lib/python3.8/site-packages (from deepchem) (1.24.4)\n",
            "Requirement already satisfied: python-dateutil>=2.7.3 in /Applications/anaconda3/lib/python3.8/site-packages (from pandas->deepchem) (2.8.1)\n",
            "Requirement already satisfied: pytz>=2017.3 in /Applications/anaconda3/lib/python3.8/site-packages (from pandas->deepchem) (2021.1)\n",
            "Requirement already satisfied: six>=1.5 in /Applications/anaconda3/lib/python3.8/site-packages (from python-dateutil>=2.7.3->pandas->deepchem) (1.15.0)\n",
            "Requirement already satisfied: Pillow in /Applications/anaconda3/lib/python3.8/site-packages (from rdkit->deepchem) (8.2.0)\n",
            "Requirement already satisfied: threadpoolctl>=2.0.0 in /Applications/anaconda3/lib/python3.8/site-packages (from scikit-learn->deepchem) (2.1.0)\n",
            "Requirement already satisfied: mpmath>=0.19 in /Applications/anaconda3/lib/python3.8/site-packages (from sympy->deepchem) (1.2.1)\n"
          ]
        },
        {
          "name": "stderr",
          "output_type": "stream",
          "text": [
            "Skipped loading some Pytorch utilities, missing a dependency. No module named 'torch'\n"
          ]
        },
        {
          "name": "stdout",
          "output_type": "stream",
          "text": [
            "This module requires PyTorch to be installed.\n"
          ]
        },
        {
          "name": "stderr",
          "output_type": "stream",
          "text": [
            "Skipped loading some Tensorflow models, missing a dependency. No module named 'tensorflow'\n",
            "Skipped loading some PyTorch models, missing a dependency. No module named 'torch'\n",
            "No module named 'torch'\n",
            "Skipped loading modules with pytorch-geometric dependency, missing a dependency. No module named 'torch'\n",
            "Skipped loading modules with pytorch-lightning dependency, missing a dependency. No module named 'torch'\n",
            "Skipped loading some Jax models, missing a dependency. No module named 'jax'\n",
            "Skipped loading some PyTorch models, missing a dependency. No module named 'tensorflow'\n"
          ]
        }
      ],
      "source": [
        "%pip install deepchem\n",
        "%pip install rdkit-pypi\n",
        "\n",
        "import pandas as pd\n",
        "import numpy as np\n",
        "import deepchem as dc\n",
        "\n",
        "from sklearn.model_selection import train_test_split\n",
        "from rdkit import Chem\n",
        "from rdkit.Chem import Descriptors\n",
        "from rdkit.ML.Descriptors import MoleculeDescriptors\n",
        "from sklearn.ensemble import RandomForestClassifier\n",
        "from sklearn.preprocessing import StandardScaler\n",
        "from sklearn.metrics import accuracy_score, roc_auc_score, average_precision_score\n",
        "from sklearn.metrics import classification_report\n",
        "from sklearn.model_selection import GridSearchCV\n",
        "\n",
        "import warnings\n",
        "\n",
        "warnings.filterwarnings('ignore')\n"
      ]
    },
    {
      "cell_type": "code",
      "execution_count": 49,
      "metadata": {
        "colab": {
          "base_uri": "https://localhost:8080/",
          "height": 669
        },
        "id": "Etmu6-An_rZ_",
        "outputId": "34146d7b-40d3-48cc-c17a-a8744cf57b8c"
      },
      "outputs": [
        {
          "data": {
            "text/html": [
              "<div>\n",
              "<style scoped>\n",
              "    .dataframe tbody tr th:only-of-type {\n",
              "        vertical-align: middle;\n",
              "    }\n",
              "\n",
              "    .dataframe tbody tr th {\n",
              "        vertical-align: top;\n",
              "    }\n",
              "\n",
              "    .dataframe thead th {\n",
              "        text-align: right;\n",
              "    }\n",
              "</style>\n",
              "<table border=\"1\" class=\"dataframe\">\n",
              "  <thead>\n",
              "    <tr style=\"text-align: right;\">\n",
              "      <th></th>\n",
              "      <th>Molecule</th>\n",
              "      <th>PUBCHEM_COMPOUND_CID</th>\n",
              "      <th>PUBCHEM_IUPAC_INCHI</th>\n",
              "      <th>PUBCHEM_IUPAC_INCHIKEY</th>\n",
              "      <th>Half-Life in MLM minutes</th>\n",
              "      <th>Binary Classification</th>\n",
              "    </tr>\n",
              "  </thead>\n",
              "  <tbody>\n",
              "    <tr>\n",
              "      <th>0</th>\n",
              "      <td>[Cl-1].S1C2=C3SC=4C=5N3C36[H].O=C2N2C1=C1C=7[N...</td>\n",
              "      <td>6444403</td>\n",
              "      <td>InChI=1S/C21H22N3OS2.ClH/c1-4-23-13-9-8-10-15(...</td>\n",
              "      <td>VSKYOTRJSLYFHX-UXJRWBAGSA-M</td>\n",
              "      <td>4.4</td>\n",
              "      <td>0</td>\n",
              "    </tr>\n",
              "    <tr>\n",
              "      <th>1</th>\n",
              "      <td>O1C23C45C67C89C%10%11C%12%13C%14%15C%16%17C8%1...</td>\n",
              "      <td>11686124</td>\n",
              "      <td>InChI=1S/C35H54N2O10/c1-19(6-9-29(36)40)24-7-8...</td>\n",
              "      <td>BDEAKWDBQDWAAQ-ORYUWPRUSA-N</td>\n",
              "      <td>38.0</td>\n",
              "      <td>0</td>\n",
              "    </tr>\n",
              "    <tr>\n",
              "      <th>2</th>\n",
              "      <td>O1C23C45C67C89C%10%11C%12%13C%14%15C%16%17C8%1...</td>\n",
              "      <td>11571413</td>\n",
              "      <td>InChI=1S/C43H72N4O10/c1-27(10-13-37(50)44-20-2...</td>\n",
              "      <td>SBDGPZKXHQPLJY-UEPJFKMZSA-N</td>\n",
              "      <td>120.0</td>\n",
              "      <td>1</td>\n",
              "    </tr>\n",
              "    <tr>\n",
              "      <th>3</th>\n",
              "      <td>O1C23C45C67C89C%10%11C%12%13C%14%15C%16%17C8%1...</td>\n",
              "      <td>11535162</td>\n",
              "      <td>InChI=1S/C47H62N2O10/c1-29(16-19-41(52)48-34-1...</td>\n",
              "      <td>ASQDPWRWIJWAFR-CBKGSJONSA-N</td>\n",
              "      <td>120.0</td>\n",
              "      <td>1</td>\n",
              "    </tr>\n",
              "    <tr>\n",
              "      <th>4</th>\n",
              "      <td>[Cl]C1=NC=2N3N=C4N=2.[F]C25[F].[F]2.[F]C2=C6C1...</td>\n",
              "      <td>16103018</td>\n",
              "      <td>InChI=1S/C18H18ClF5N6O.ClH/c1-9(18(22,23)24)28...</td>\n",
              "      <td>HAFUDZOLFLXVIY-FVGYRXGTSA-N</td>\n",
              "      <td>433.0</td>\n",
              "      <td>1</td>\n",
              "    </tr>\n",
              "    <tr>\n",
              "      <th>...</th>\n",
              "      <td>...</td>\n",
              "      <td>...</td>\n",
              "      <td>...</td>\n",
              "      <td>...</td>\n",
              "      <td>...</td>\n",
              "      <td>...</td>\n",
              "    </tr>\n",
              "    <tr>\n",
              "      <th>889</th>\n",
              "      <td>N12C34C56N7C89C1%10[H].N1%11C%12%13C%14%15C%16...</td>\n",
              "      <td>54585781</td>\n",
              "      <td>InChI=1S/C13H24N6/c1-10(2)9-15-11-8-12(17-13(1...</td>\n",
              "      <td>LJUOJSBZZTZROX-UHFFFAOYSA-N</td>\n",
              "      <td>4.0</td>\n",
              "      <td>0</td>\n",
              "    </tr>\n",
              "    <tr>\n",
              "      <th>890</th>\n",
              "      <td>[Cl]C=1C2=C3C=4N=C5N=C6N7C89C%10%11N%12C%13=NC...</td>\n",
              "      <td>44595856</td>\n",
              "      <td>InChI=1S/C16H17ClN8/c17-11-3-1-2-10(8-11)12-9-...</td>\n",
              "      <td>UIACBYZKCZCWAB-UHFFFAOYSA-N</td>\n",
              "      <td>9.0</td>\n",
              "      <td>0</td>\n",
              "    </tr>\n",
              "    <tr>\n",
              "      <th>891</th>\n",
              "      <td>N12C34C56N7C89C1%10[H].N1=C2C2=C%11N=C1N1[H].C...</td>\n",
              "      <td>25129523</td>\n",
              "      <td>InChI=1S/C15H19N5/c1-19-7-9-20(10-8-19)14-11-1...</td>\n",
              "      <td>NIJGWJIOMPHDBP-UHFFFAOYSA-N</td>\n",
              "      <td>4.0</td>\n",
              "      <td>0</td>\n",
              "    </tr>\n",
              "    <tr>\n",
              "      <th>892</th>\n",
              "      <td>[Cl]C1=C2C=3C4=C5N6C=3C3=C1[H].O=C5N1C57C89N%1...</td>\n",
              "      <td>4908365</td>\n",
              "      <td>InChI=1S/C14H16ClN3O/c1-17-4-6-18(7-5-17)14(19...</td>\n",
              "      <td>HUQJRYMLJBBEDO-UHFFFAOYSA-N</td>\n",
              "      <td>2.0</td>\n",
              "      <td>0</td>\n",
              "    </tr>\n",
              "    <tr>\n",
              "      <th>893</th>\n",
              "      <td>[F]C12[F].[F]1.O=C2N1N=C2C3=C4C=5OC67[H].C18=C...</td>\n",
              "      <td>25229652</td>\n",
              "      <td>InChI=1S/C18H17F3N2O2/c1-12-7-8-16(13(2)9-12)2...</td>\n",
              "      <td>HYMZAYGFKNNHDN-SSDVNMTOSA-N</td>\n",
              "      <td>4.0</td>\n",
              "      <td>0</td>\n",
              "    </tr>\n",
              "  </tbody>\n",
              "</table>\n",
              "<p>894 rows × 6 columns</p>\n",
              "</div>"
            ],
            "text/plain": [
              "                                              Molecule  PUBCHEM_COMPOUND_CID  \\\n",
              "0    [Cl-1].S1C2=C3SC=4C=5N3C36[H].O=C2N2C1=C1C=7[N...               6444403   \n",
              "1    O1C23C45C67C89C%10%11C%12%13C%14%15C%16%17C8%1...              11686124   \n",
              "2    O1C23C45C67C89C%10%11C%12%13C%14%15C%16%17C8%1...              11571413   \n",
              "3    O1C23C45C67C89C%10%11C%12%13C%14%15C%16%17C8%1...              11535162   \n",
              "4    [Cl]C1=NC=2N3N=C4N=2.[F]C25[F].[F]2.[F]C2=C6C1...              16103018   \n",
              "..                                                 ...                   ...   \n",
              "889  N12C34C56N7C89C1%10[H].N1%11C%12%13C%14%15C%16...              54585781   \n",
              "890  [Cl]C=1C2=C3C=4N=C5N=C6N7C89C%10%11N%12C%13=NC...              44595856   \n",
              "891  N12C34C56N7C89C1%10[H].N1=C2C2=C%11N=C1N1[H].C...              25129523   \n",
              "892  [Cl]C1=C2C=3C4=C5N6C=3C3=C1[H].O=C5N1C57C89N%1...               4908365   \n",
              "893  [F]C12[F].[F]1.O=C2N1N=C2C3=C4C=5OC67[H].C18=C...              25229652   \n",
              "\n",
              "                                   PUBCHEM_IUPAC_INCHI  \\\n",
              "0    InChI=1S/C21H22N3OS2.ClH/c1-4-23-13-9-8-10-15(...   \n",
              "1    InChI=1S/C35H54N2O10/c1-19(6-9-29(36)40)24-7-8...   \n",
              "2    InChI=1S/C43H72N4O10/c1-27(10-13-37(50)44-20-2...   \n",
              "3    InChI=1S/C47H62N2O10/c1-29(16-19-41(52)48-34-1...   \n",
              "4    InChI=1S/C18H18ClF5N6O.ClH/c1-9(18(22,23)24)28...   \n",
              "..                                                 ...   \n",
              "889  InChI=1S/C13H24N6/c1-10(2)9-15-11-8-12(17-13(1...   \n",
              "890  InChI=1S/C16H17ClN8/c17-11-3-1-2-10(8-11)12-9-...   \n",
              "891  InChI=1S/C15H19N5/c1-19-7-9-20(10-8-19)14-11-1...   \n",
              "892  InChI=1S/C14H16ClN3O/c1-17-4-6-18(7-5-17)14(19...   \n",
              "893  InChI=1S/C18H17F3N2O2/c1-12-7-8-16(13(2)9-12)2...   \n",
              "\n",
              "          PUBCHEM_IUPAC_INCHIKEY  Half-Life in MLM minutes  \\\n",
              "0    VSKYOTRJSLYFHX-UXJRWBAGSA-M                       4.4   \n",
              "1    BDEAKWDBQDWAAQ-ORYUWPRUSA-N                      38.0   \n",
              "2    SBDGPZKXHQPLJY-UEPJFKMZSA-N                     120.0   \n",
              "3    ASQDPWRWIJWAFR-CBKGSJONSA-N                     120.0   \n",
              "4    HAFUDZOLFLXVIY-FVGYRXGTSA-N                     433.0   \n",
              "..                           ...                       ...   \n",
              "889  LJUOJSBZZTZROX-UHFFFAOYSA-N                       4.0   \n",
              "890  UIACBYZKCZCWAB-UHFFFAOYSA-N                       9.0   \n",
              "891  NIJGWJIOMPHDBP-UHFFFAOYSA-N                       4.0   \n",
              "892  HUQJRYMLJBBEDO-UHFFFAOYSA-N                       2.0   \n",
              "893  HYMZAYGFKNNHDN-SSDVNMTOSA-N                       4.0   \n",
              "\n",
              "     Binary Classification  \n",
              "0                        0  \n",
              "1                        0  \n",
              "2                        1  \n",
              "3                        1  \n",
              "4                        1  \n",
              "..                     ...  \n",
              "889                      0  \n",
              "890                      0  \n",
              "891                      0  \n",
              "892                      0  \n",
              "893                      0  \n",
              "\n",
              "[894 rows x 6 columns]"
            ]
          },
          "execution_count": 49,
          "metadata": {},
          "output_type": "execute_result"
        }
      ],
      "source": [
        "df = pd.read_csv(\"../Data/half-life-dataset.csv\")\n",
        "df.drop('Unnamed: 4', axis=1)"
      ]
    },
    {
      "cell_type": "markdown",
      "metadata": {},
      "source": [
        "Modify Inchi for row 561 and 679. Original Inchi causing issue when converting to Mol."
      ]
    },
    {
      "cell_type": "code",
      "execution_count": 50,
      "metadata": {},
      "outputs": [
        {
          "name": "stdout",
          "output_type": "stream",
          "text": [
            "Modified value: InChI=1S/C22H12F4N4O/c23-18-4-3-15(8-17(18)22(24,25)26)30-20(31)6-2-13-9-27-19-5-1-12(7-16(19)21(13)30)14-10-28-29-11-14/h1-11H,(H,28,29)\n",
            "Modified value: InChI=1S/C25H30N4O2/c30-25(27-31)14-11-21-9-12-23-22(19-21)26-24(13-10-20-7-3-1-4-8-20)29(23)18-17-28-15-5-2-6-16-28/h1,3-4,7-9,11-12,14,19,31H,2,5-6,10,13,15-18H2,(H,27,30)/b14-11+\n",
            "CSV file copied and modified successfully.\n"
          ]
        }
      ],
      "source": [
        "new_inchi_561 = 'InChI=1S/C22H12F4N4O/c23-18-4-3-15(8-17(18)22(24,25)26)30-20(31)6-2-13-9-27-19-5-1-12(7-16(19)21(13)30)14-10-28-29-11-14/h1-11H,(H,28,29)'\n",
        "new_inchi_679 = 'InChI=1S/C25H30N4O2/c30-25(27-31)14-11-21-9-12-23-22(19-21)26-24(13-10-20-7-3-1-4-8-20)29(23)18-17-28-15-5-2-6-16-28/h1,3-4,7-9,11-12,14,19,31H,2,5-6,10,13,15-18H2,(H,27,30)/b14-11+'\n",
        "\n",
        "df.at[561, 'PUBCHEM_IUPAC_INCHI'] = new_inchi_561\n",
        "df.at[679, 'PUBCHEM_IUPAC_INCHI'] = new_inchi_679\n",
        "\n",
        "df.to_csv('modified_half-life.csv', index=False)\n",
        "\n",
        "print(\"Modified value:\", df.at[561, 'PUBCHEM_IUPAC_INCHI'])\n",
        "print(\"Modified value:\", df.at[679, 'PUBCHEM_IUPAC_INCHI'])\n",
        "\n",
        "print(\"CSV file copied and modified successfully.\")"
      ]
    },
    {
      "cell_type": "markdown",
      "metadata": {
        "id": "dBZjj-BEoylO"
      },
      "source": [
        "Convert each molecule to mol from Inchi and then from mol to SMILES"
      ]
    },
    {
      "cell_type": "code",
      "execution_count": 95,
      "metadata": {
        "colab": {
          "base_uri": "https://localhost:8080/",
          "height": 521
        },
        "id": "cM_WCFdM0kfz",
        "outputId": "5272c21f-69bd-424b-fd13-129ae8f40a7d"
      },
      "outputs": [],
      "source": [
        "df['mol'] = df['PUBCHEM_IUPAC_INCHI'].apply(Chem.MolFromInchi)\n",
        "df.drop('Unnamed: 4', axis=1)\n",
        "df['SMILES'] = df['mol'].apply(lambda x: Chem.MolToSmiles(x) if x is not None else None)"
      ]
    },
    {
      "cell_type": "markdown",
      "metadata": {},
      "source": [
        "Split dataset into 80% trainning 20% testing"
      ]
    },
    {
      "cell_type": "code",
      "execution_count": 70,
      "metadata": {},
      "outputs": [
        {
          "name": "stdout",
          "output_type": "stream",
          "text": [
            "Training and testing sets created and saved as separate CSV files.\n"
          ]
        }
      ],
      "source": [
        "train_df, test_df = train_test_split(df, test_size=0.2, random_state=42, stratify=df['Binary Classification'])\n",
        "\n",
        "# Save the training set to a CSV file\n",
        "train_df.to_csv(\"../data/half-life-train.csv\", index=False)\n",
        "\n",
        "# Save the testing set to a CSV file\n",
        "test_df.to_csv(\"../data/half-life-test.csv\", index=False)\n",
        "\n",
        "print(\"Training and testing sets created and saved as separate CSV files.\")"
      ]
    },
    {
      "cell_type": "code",
      "execution_count": 72,
      "metadata": {},
      "outputs": [],
      "source": [
        "DATA_DIR = \"../Data\"\n",
        "\n",
        "TRN_PATH = f\"{DATA_DIR}/half-life-train.csv\"\n",
        "TST_PATH = f\"{DATA_DIR}/half-life-test.csv\"\n"
      ]
    },
    {
      "cell_type": "code",
      "execution_count": 87,
      "metadata": {},
      "outputs": [],
      "source": [
        "df_trn = pd.read_csv(TRN_PATH)\n",
        "df_tst = pd.read_csv(TST_PATH)"
      ]
    },
    {
      "cell_type": "code",
      "execution_count": 88,
      "metadata": {},
      "outputs": [
        {
          "name": "stdout",
          "output_type": "stream",
          "text": [
            "0    0.709497\n",
            "1    0.290503\n",
            "Name: Binary Classification, dtype: float64\n",
            "0    0.706294\n",
            "1    0.293706\n",
            "Name: Binary Classification, dtype: float64\n"
          ]
        }
      ],
      "source": [
        "print(df_tst['Binary Classification'].value_counts(normalize=True))\n",
        "print(df_trn['Binary Classification'].value_counts(normalize=True))"
      ]
    },
    {
      "cell_type": "markdown",
      "metadata": {},
      "source": [
        "Simplify dataframes so they only include SMILES and Binary Classification columns"
      ]
    },
    {
      "cell_type": "code",
      "execution_count": 99,
      "metadata": {
        "id": "ZXFI5Lqb4xFa"
      },
      "outputs": [],
      "source": [
        "df_trn= df_trn[['SMILES', 'Binary Classification']]\n",
        "df_tst= df_tst[['SMILES', 'Binary Classification']]\n"
      ]
    },
    {
      "cell_type": "markdown",
      "metadata": {
        "id": "wicXV8hKz6KH"
      },
      "source": [
        "Using deepchem to generate features: RDKit descriptors and circular fingerprints"
      ]
    },
    {
      "cell_type": "code",
      "execution_count": 100,
      "metadata": {},
      "outputs": [
        {
          "name": "stdout",
          "output_type": "stream",
          "text": [
            "Generating circular fingerprints...\n",
            "Generating rdkit fingerprints...\n",
            "Done.\n",
            "Shape of trn set = (715, 2258)\n",
            "Shape of tst set = (179, 2258)\n"
          ]
        }
      ],
      "source": [
        "featurizers = {\n",
        "    'circular': dc.feat.CircularFingerprint(size=2048, radius=4), \n",
        "    'rdkit': dc.feat.RDKitDescriptors()\n",
        "}\n",
        "\n",
        "def featurize(df, key, featurizer):\n",
        "    feats = featurizer.featurize(df['SMILES'])\n",
        "    pd_feats = pd.DataFrame(feats, columns=[key + '_' + str(i+1) for i in range(feats.shape[1])])\n",
        "    return pd.concat([df, pd_feats], axis=1)\n",
        "\n",
        "for k, f in featurizers.items():\n",
        "    print(f\"Generating {k} fingerprints...\")\n",
        "    df_trn = featurize(df_trn, k, f)\n",
        "    df_tst = featurize(df_tst, k, f)\n",
        "print(\"Done.\")\n",
        "\n",
        "print(f\"Shape of trn set = {df_trn.shape}\")\n",
        "print(f\"Shape of tst set = {df_tst.shape}\")"
      ]
    },
    {
      "cell_type": "code",
      "execution_count": 101,
      "metadata": {
        "colab": {
          "base_uri": "https://localhost:8080/"
        },
        "id": "FG_P4epfaSzR",
        "outputId": "1f0bbd1d-a380-4ad7-fe51-7618c168a47d"
      },
      "outputs": [
        {
          "data": {
            "text/plain": [
              "Index(['SMILES', 'Binary Classification', 'circular_1', 'circular_2',\n",
              "       'circular_3', 'circular_4', 'circular_5', 'circular_6', 'circular_7',\n",
              "       'circular_8',\n",
              "       ...\n",
              "       'rdkit_199', 'rdkit_200', 'rdkit_201', 'rdkit_202', 'rdkit_203',\n",
              "       'rdkit_204', 'rdkit_205', 'rdkit_206', 'rdkit_207', 'rdkit_208'],\n",
              "      dtype='object', length=2258)"
            ]
          },
          "execution_count": 101,
          "metadata": {},
          "output_type": "execute_result"
        }
      ],
      "source": [
        "df_trn.columns"
      ]
    },
    {
      "cell_type": "code",
      "execution_count": 102,
      "metadata": {},
      "outputs": [],
      "source": [
        "X_trn, y_trn = df_trn.drop(['SMILES', 'Binary Classification'], axis=1), df_trn['Binary Classification']\n",
        "X_tst, y_tst = df_tst.drop(['SMILES', 'Binary Classification'], axis=1), df_tst['Binary Classification']"
      ]
    },
    {
      "cell_type": "markdown",
      "metadata": {
        "id": "zieBF6Ml0UCb"
      },
      "source": [
        "Scale dataset StandardScaler"
      ]
    },
    {
      "cell_type": "code",
      "execution_count": 103,
      "metadata": {
        "id": "qp6kiH-DexZh"
      },
      "outputs": [],
      "source": [
        "scaler = StandardScaler()\n",
        "X_trn = scaler.fit_transform(X_trn)\n",
        "X_tst = scaler.transform(X_tst)\n"
      ]
    },
    {
      "cell_type": "markdown",
      "metadata": {
        "id": "Ib8LERfC0d_D"
      },
      "source": [
        "Generate random forest model"
      ]
    },
    {
      "cell_type": "code",
      "execution_count": 104,
      "metadata": {
        "id": "2LMpxaVkey97"
      },
      "outputs": [],
      "source": [
        "rf = RandomForestClassifier(n_estimators= 1000, max_depth=14, max_samples=80, random_state=42)"
      ]
    },
    {
      "cell_type": "markdown",
      "metadata": {
        "id": "dFXA4FpX0e50"
      },
      "source": [
        "Fit data to model"
      ]
    },
    {
      "cell_type": "code",
      "execution_count": 105,
      "metadata": {
        "colab": {
          "base_uri": "https://localhost:8080/",
          "height": 92
        },
        "id": "koZYbgSze4ig",
        "outputId": "1dc95fab-b0c9-43bb-991d-2c48bedeec3e"
      },
      "outputs": [
        {
          "data": {
            "text/plain": [
              "RandomForestClassifier(max_depth=14, max_samples=80, n_estimators=1000,\n",
              "                       random_state=42)"
            ]
          },
          "execution_count": 105,
          "metadata": {},
          "output_type": "execute_result"
        }
      ],
      "source": [
        "rf.fit(X_trn, y_trn)"
      ]
    },
    {
      "cell_type": "code",
      "execution_count": 106,
      "metadata": {
        "colab": {
          "base_uri": "https://localhost:8080/"
        },
        "id": "jwD5UljehQ8z",
        "outputId": "dc803291-d45d-4585-e33a-543fce955816"
      },
      "outputs": [
        {
          "data": {
            "text/plain": [
              "0.7597765363128491"
            ]
          },
          "execution_count": 106,
          "metadata": {},
          "output_type": "execute_result"
        }
      ],
      "source": [
        "rf.score(X_tst, y_tst)"
      ]
    },
    {
      "cell_type": "code",
      "execution_count": 107,
      "metadata": {
        "colab": {
          "base_uri": "https://localhost:8080/",
          "height": 520
        },
        "id": "pigNvBhRe59C",
        "outputId": "ded4ea8e-8f2f-490e-d4aa-ac1d0d0c01bb"
      },
      "outputs": [],
      "source": [
        "rf_preds = rf.predict(X_tst)\n"
      ]
    },
    {
      "cell_type": "code",
      "execution_count": 108,
      "metadata": {
        "colab": {
          "base_uri": "https://localhost:8080/"
        },
        "id": "Y5D-uDpogvh7",
        "outputId": "7476e410-050a-4b8c-f945-41025fa87379"
      },
      "outputs": [
        {
          "name": "stdout",
          "output_type": "stream",
          "text": [
            "              precision    recall  f1-score   support\n",
            "\n",
            "           0       0.76      0.97      0.85       127\n",
            "           1       0.76      0.25      0.38        52\n",
            "\n",
            "    accuracy                           0.76       179\n",
            "   macro avg       0.76      0.61      0.61       179\n",
            "weighted avg       0.76      0.76      0.71       179\n",
            "\n"
          ]
        }
      ],
      "source": [
        "print(classification_report(y_tst, rf_preds))"
      ]
    },
    {
      "cell_type": "markdown",
      "metadata": {
        "id": "7iP67sIq0j_L"
      },
      "source": [
        "Second model using Hyperparameter tuning"
      ]
    },
    {
      "cell_type": "code",
      "execution_count": 109,
      "metadata": {
        "id": "mpItta5TjFYS"
      },
      "outputs": [],
      "source": [
        "rf2 = RandomForestClassifier()"
      ]
    },
    {
      "cell_type": "code",
      "execution_count": 110,
      "metadata": {
        "id": "-4bernWrk2eJ"
      },
      "outputs": [],
      "source": [
        "param_grid = [{\n",
        "    'n_estimators': [100, 500, 1000],\n",
        "    'max_depth': [5, 10, 15, 20],\n",
        "    'max_samples': [50, 80, 100]\n",
        "    #'random_state': [42]\n",
        "}]"
      ]
    },
    {
      "cell_type": "markdown",
      "metadata": {
        "id": "ntjVZEON0oNP"
      },
      "source": [
        "Using GridSearchCV to select optimal parameters for model"
      ]
    },
    {
      "cell_type": "code",
      "execution_count": 111,
      "metadata": {
        "id": "hV9HJMwAlbbp"
      },
      "outputs": [],
      "source": [
        "from sklearn.model_selection import GridSearchCV\n",
        "grid_search = GridSearchCV(rf2, param_grid, cv=2, scoring='accuracy', n_jobs=-1)"
      ]
    },
    {
      "cell_type": "code",
      "execution_count": 112,
      "metadata": {
        "colab": {
          "base_uri": "https://localhost:8080/",
          "height": 118
        },
        "id": "M3Hrtx1pl8P5",
        "outputId": "a3f26f8a-c00e-4700-91fd-11b16427aadb"
      },
      "outputs": [
        {
          "data": {
            "text/plain": [
              "GridSearchCV(cv=2, estimator=RandomForestClassifier(), n_jobs=-1,\n",
              "             param_grid=[{'max_depth': [5, 10, 15, 20],\n",
              "                          'max_samples': [50, 80, 100],\n",
              "                          'n_estimators': [100, 500, 1000]}],\n",
              "             scoring='accuracy')"
            ]
          },
          "execution_count": 112,
          "metadata": {},
          "output_type": "execute_result"
        }
      ],
      "source": [
        "grid_search.fit(X_trn, y_trn)"
      ]
    },
    {
      "cell_type": "code",
      "execution_count": 113,
      "metadata": {
        "colab": {
          "base_uri": "https://localhost:8080/",
          "height": 159
        },
        "id": "InxTrJm9me9i",
        "outputId": "3f5ae36a-5f13-478e-eab3-83cca527a04b"
      },
      "outputs": [
        {
          "name": "stdout",
          "output_type": "stream",
          "text": [
            "Grid search best score 0.7328803029591725\n",
            "Grid search best params {'max_depth': 20, 'max_samples': 100, 'n_estimators': 100}\n"
          ]
        }
      ],
      "source": [
        "print(\"Grid search best score\", grid_search.best_score_)\n",
        "print(\"Grid search best params\",grid_search.best_params_)"
      ]
    },
    {
      "cell_type": "markdown",
      "metadata": {
        "id": "9m4ZuA_Q0wSu"
      },
      "source": [
        "Binary Classification Metrics\n"
      ]
    },
    {
      "cell_type": "code",
      "execution_count": 116,
      "metadata": {
        "colab": {
          "base_uri": "https://localhost:8080/"
        },
        "id": "mM9OEnT7m--E",
        "outputId": "f07f9c8c-6c2b-440c-9166-549e147b10a8"
      },
      "outputs": [
        {
          "name": "stdout",
          "output_type": "stream",
          "text": [
            "Accuracy score:  0.7430167597765364\n",
            "ROC AUC score:  0.5917625681405209\n",
            "Average precision score:  0.37730984099699183\n"
          ]
        }
      ],
      "source": [
        "print(\"Accuracy score: \", accuracy_score(y_tst, grid_search.predict(X_tst)))\n",
        "print(\"ROC AUC score: \", roc_auc_score(y_tst, grid_search.predict(X_tst)))\n",
        "print(\"Average precision score: \", average_precision_score(y_tst, grid_search.predict(X_tst)))"
      ]
    },
    {
      "cell_type": "markdown",
      "metadata": {
        "id": "vD0v7xGOjUy1"
      },
      "source": []
    },
    {
      "cell_type": "markdown",
      "metadata": {
        "id": "sM95zXqL0Yds"
      },
      "source": []
    },
    {
      "cell_type": "markdown",
      "metadata": {
        "id": "qt3CgBjnz9Q3"
      },
      "source": []
    }
  ],
  "metadata": {
    "colab": {
      "authorship_tag": "ABX9TyNq3Z13kpu2j0aig5YtoGV1",
      "include_colab_link": true,
      "mount_file_id": "1AC-eckq_uuls85LPzg30wfub35kj0fsD",
      "provenance": []
    },
    "kernelspec": {
      "display_name": "Python 3",
      "name": "python3"
    },
    "language_info": {
      "codemirror_mode": {
        "name": "ipython",
        "version": 3
      },
      "file_extension": ".py",
      "mimetype": "text/x-python",
      "name": "python",
      "nbconvert_exporter": "python",
      "pygments_lexer": "ipython3",
      "version": "3.8.8"
    }
  },
  "nbformat": 4,
  "nbformat_minor": 0
}
